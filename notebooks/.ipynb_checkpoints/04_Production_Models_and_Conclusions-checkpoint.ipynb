{
 "cells": [
  {
   "cell_type": "code",
   "execution_count": 1,
   "id": "327dddae-90db-4134-bf81-e22e4ff0ae64",
   "metadata": {},
   "outputs": [],
   "source": [
    "import numpy as np\n",
    "import pandas as pd\n",
    "import matplotlib.pyplot as plt\n",
    "import seaborn as sns\n",
    "\n",
    "from sklearn.ensemble import RandomForestClassifier\n",
    "from sklearn import metrics\n",
    "\n",
    "from tensorflow.keras.models import Sequential\n",
    "from tensorflow.keras.layers import Dense, Dropout, BatchNormalization\n",
    "from tensorflow.keras.callbacks import EarlyStopping\n",
    "from tensorflow.keras.losses import CategoricalCrossentropy\n",
    "from tensorflow import math\n",
    "\n",
    "import pickle"
   ]
  },
  {
   "cell_type": "code",
   "execution_count": 11,
   "id": "0a98b905-6759-4772-8bdc-503072b4d1c9",
   "metadata": {},
   "outputs": [],
   "source": [
    "wvs = pd.read_csv('../data/wvs_preprocessed.csv')"
   ]
  },
  {
   "cell_type": "code",
   "execution_count": 7,
   "id": "71154f96-f5d2-4d29-9f11-eb2daa9dfde4",
   "metadata": {},
   "outputs": [],
   "source": [
    "with open('../pickles/y_test.pickle', 'rb') as f:\n",
    "    y_test = pickle.load(f)"
   ]
  },
  {
   "cell_type": "code",
   "execution_count": 8,
   "id": "9bcf5f7f-6db4-4823-9103-2b5cd47adfff",
   "metadata": {},
   "outputs": [],
   "source": [
    "with open('../pickles/Z_test.pickle', 'rb') as f:\n",
    "    Z_test = pickle.load(f)"
   ]
  },
  {
   "cell_type": "markdown",
   "id": "b83b11f1-6368-49d1-b514-5de8b69ff7a6",
   "metadata": {},
   "source": [
    "# Productions Models and Conclusions"
   ]
  },
  {
   "cell_type": "markdown",
   "id": "9d18ac6a-fa3f-4c80-a106-ff6b2f9171a7",
   "metadata": {},
   "source": [
    "## Production Model - Random Forest"
   ]
  },
  {
   "cell_type": "code",
   "execution_count": 4,
   "id": "97ad9b9a-5a72-4111-9012-8fef2fb7802c",
   "metadata": {},
   "outputs": [],
   "source": [
    "with open('../models/rf.pickle', 'rb') as f:\n",
    "    rf = pickle.load(f)"
   ]
  },
  {
   "cell_type": "markdown",
   "id": "449092c5-2517-456d-a632-8903f21746f9",
   "metadata": {},
   "source": [
    "Just a reminder of how the model performed:"
   ]
  },
  {
   "cell_type": "code",
   "execution_count": 20,
   "id": "5ecfd529-bcce-431a-b623-2f7c0067bfe2",
   "metadata": {},
   "outputs": [
    {
     "name": "stdout",
     "output_type": "stream",
     "text": [
      "Test accuracy:  0.7140869565217391\n"
     ]
    }
   ],
   "source": [
    "print('Test accuracy: ', rf.score(Z_test, y_test))"
   ]
  },
  {
   "cell_type": "code",
   "execution_count": 9,
   "id": "776b7a6e-99d4-4b3f-857d-fda2c4f4d2a2",
   "metadata": {},
   "outputs": [
    {
     "data": {
      "image/png": "[encoded data removed]",
      "text/plain": [
       "<Figure size 640x480 with 2 Axes>"
      ]
     },
     "metadata": {},
     "output_type": "display_data"
    }
   ],
   "source": [
    "metrics.ConfusionMatrixDisplay.from_estimator(rf, Z_test, y_test, cmap = 'Blues')\n",
    "\n",
    "plt.title('Confusion Matrix for Random Forest Classifier');"
   ]
  },
  {
   "cell_type": "markdown",
   "id": "3f239b4e-40bf-4033-b7ad-9991295c94fb",
   "metadata": {},
   "source": [
    "And now the thing I was most interested in seeing from this model: Feature Importances"
   ]
  },
  {
   "cell_type": "code",
   "execution_count": 13,
   "id": "eca06d5b-229f-482c-b3c2-2ce1ced12918",
   "metadata": {},
   "outputs": [
    {
     "data": {
      "text/html": [
       "<div>\n",
       "<style scoped>\n",
       "    .dataframe tbody tr th:only-of-type {\n",
       "        vertical-align: middle;\n",
       "    }\n",
       "\n",
       "    .dataframe tbody tr th {\n",
       "        vertical-align: top;\n",
       "    }\n",
       "\n",
       "    .dataframe thead th {\n",
       "        text-align: right;\n",
       "    }\n",
       "</style>\n",
       "<table border=\"1\" class=\"dataframe\">\n",
       "  <thead>\n",
       "    <tr style=\"text-align: right;\">\n",
       "      <th></th>\n",
       "      <th>feature_names</th>\n",
       "      <th>feature_importance</th>\n",
       "    </tr>\n",
       "  </thead>\n",
       "  <tbody>\n",
       "    <tr>\n",
       "      <th>41</th>\n",
       "      <td>S020</td>\n",
       "      <td>0.052281</td>\n",
       "    </tr>\n",
       "    <tr>\n",
       "      <th>8</th>\n",
       "      <td>A170</td>\n",
       "      <td>0.041690</td>\n",
       "    </tr>\n",
       "    <tr>\n",
       "      <th>14</th>\n",
       "      <td>F121</td>\n",
       "      <td>0.037537</td>\n",
       "    </tr>\n",
       "    <tr>\n",
       "      <th>39</th>\n",
       "      <td>F028</td>\n",
       "      <td>0.035727</td>\n",
       "    </tr>\n",
       "    <tr>\n",
       "      <th>9</th>\n",
       "      <td>F063</td>\n",
       "      <td>0.034869</td>\n",
       "    </tr>\n",
       "    <tr>\n",
       "      <th>13</th>\n",
       "      <td>F120</td>\n",
       "      <td>0.031207</td>\n",
       "    </tr>\n",
       "    <tr>\n",
       "      <th>12</th>\n",
       "      <td>F118</td>\n",
       "      <td>0.028921</td>\n",
       "    </tr>\n",
       "    <tr>\n",
       "      <th>40</th>\n",
       "      <td>X045</td>\n",
       "      <td>0.028909</td>\n",
       "    </tr>\n",
       "    <tr>\n",
       "      <th>23</th>\n",
       "      <td>D059</td>\n",
       "      <td>0.026469</td>\n",
       "    </tr>\n",
       "    <tr>\n",
       "      <th>18</th>\n",
       "      <td>A004</td>\n",
       "      <td>0.026321</td>\n",
       "    </tr>\n",
       "    <tr>\n",
       "      <th>27</th>\n",
       "      <td>E023</td>\n",
       "      <td>0.026025</td>\n",
       "    </tr>\n",
       "    <tr>\n",
       "      <th>31</th>\n",
       "      <td>E069_05</td>\n",
       "      <td>0.025772</td>\n",
       "    </tr>\n",
       "    <tr>\n",
       "      <th>38</th>\n",
       "      <td>E069_15</td>\n",
       "      <td>0.025766</td>\n",
       "    </tr>\n",
       "    <tr>\n",
       "      <th>36</th>\n",
       "      <td>E069_13</td>\n",
       "      <td>0.025500</td>\n",
       "    </tr>\n",
       "    <tr>\n",
       "      <th>10</th>\n",
       "      <td>F116</td>\n",
       "      <td>0.025416</td>\n",
       "    </tr>\n",
       "    <tr>\n",
       "      <th>37</th>\n",
       "      <td>E069_14</td>\n",
       "      <td>0.025364</td>\n",
       "    </tr>\n",
       "    <tr>\n",
       "      <th>24</th>\n",
       "      <td>D060</td>\n",
       "      <td>0.025196</td>\n",
       "    </tr>\n",
       "    <tr>\n",
       "      <th>28</th>\n",
       "      <td>E069_01</td>\n",
       "      <td>0.024956</td>\n",
       "    </tr>\n",
       "    <tr>\n",
       "      <th>20</th>\n",
       "      <td>A006</td>\n",
       "      <td>0.024435</td>\n",
       "    </tr>\n",
       "    <tr>\n",
       "      <th>34</th>\n",
       "      <td>E069_11</td>\n",
       "      <td>0.024426</td>\n",
       "    </tr>\n",
       "    <tr>\n",
       "      <th>29</th>\n",
       "      <td>E069_02</td>\n",
       "      <td>0.024414</td>\n",
       "    </tr>\n",
       "    <tr>\n",
       "      <th>32</th>\n",
       "      <td>E069_06</td>\n",
       "      <td>0.024345</td>\n",
       "    </tr>\n",
       "    <tr>\n",
       "      <th>35</th>\n",
       "      <td>E069_12</td>\n",
       "      <td>0.023778</td>\n",
       "    </tr>\n",
       "    <tr>\n",
       "      <th>22</th>\n",
       "      <td>D054</td>\n",
       "      <td>0.023543</td>\n",
       "    </tr>\n",
       "    <tr>\n",
       "      <th>33</th>\n",
       "      <td>E069_10</td>\n",
       "      <td>0.022772</td>\n",
       "    </tr>\n",
       "    <tr>\n",
       "      <th>30</th>\n",
       "      <td>E069_04</td>\n",
       "      <td>0.022588</td>\n",
       "    </tr>\n",
       "    <tr>\n",
       "      <th>11</th>\n",
       "      <td>F117</td>\n",
       "      <td>0.022449</td>\n",
       "    </tr>\n",
       "    <tr>\n",
       "      <th>15</th>\n",
       "      <td>F123</td>\n",
       "      <td>0.021594</td>\n",
       "    </tr>\n",
       "    <tr>\n",
       "      <th>21</th>\n",
       "      <td>A008</td>\n",
       "      <td>0.021001</td>\n",
       "    </tr>\n",
       "    <tr>\n",
       "      <th>16</th>\n",
       "      <td>X025R</td>\n",
       "      <td>0.020349</td>\n",
       "    </tr>\n",
       "    <tr>\n",
       "      <th>25</th>\n",
       "      <td>E015</td>\n",
       "      <td>0.019133</td>\n",
       "    </tr>\n",
       "    <tr>\n",
       "      <th>19</th>\n",
       "      <td>A005</td>\n",
       "      <td>0.017857</td>\n",
       "    </tr>\n",
       "    <tr>\n",
       "      <th>17</th>\n",
       "      <td>X047R_WVS</td>\n",
       "      <td>0.017554</td>\n",
       "    </tr>\n",
       "    <tr>\n",
       "      <th>0</th>\n",
       "      <td>A029</td>\n",
       "      <td>0.016393</td>\n",
       "    </tr>\n",
       "    <tr>\n",
       "      <th>26</th>\n",
       "      <td>E016</td>\n",
       "      <td>0.015472</td>\n",
       "    </tr>\n",
       "    <tr>\n",
       "      <th>6</th>\n",
       "      <td>A040</td>\n",
       "      <td>0.013618</td>\n",
       "    </tr>\n",
       "    <tr>\n",
       "      <th>5</th>\n",
       "      <td>A039</td>\n",
       "      <td>0.013372</td>\n",
       "    </tr>\n",
       "    <tr>\n",
       "      <th>1</th>\n",
       "      <td>A030</td>\n",
       "      <td>0.013293</td>\n",
       "    </tr>\n",
       "    <tr>\n",
       "      <th>4</th>\n",
       "      <td>A035</td>\n",
       "      <td>0.013242</td>\n",
       "    </tr>\n",
       "    <tr>\n",
       "      <th>7</th>\n",
       "      <td>A041</td>\n",
       "      <td>0.012975</td>\n",
       "    </tr>\n",
       "    <tr>\n",
       "      <th>2</th>\n",
       "      <td>A032</td>\n",
       "      <td>0.012634</td>\n",
       "    </tr>\n",
       "    <tr>\n",
       "      <th>3</th>\n",
       "      <td>A034</td>\n",
       "      <td>0.010834</td>\n",
       "    </tr>\n",
       "  </tbody>\n",
       "</table>\n",
       "</div>"
      ],
      "text/plain": [
       "   feature_names  feature_importance\n",
       "41          S020            0.052281\n",
       "8           A170            0.041690\n",
       "14          F121            0.037537\n",
       "39          F028            0.035727\n",
       "9           F063            0.034869\n",
       "13          F120            0.031207\n",
       "12          F118            0.028921\n",
       "40          X045            0.028909\n",
       "23          D059            0.026469\n",
       "18          A004            0.026321\n",
       "27          E023            0.026025\n",
       "31       E069_05            0.025772\n",
       "38       E069_15            0.025766\n",
       "36       E069_13            0.025500\n",
       "10          F116            0.025416\n",
       "37       E069_14            0.025364\n",
       "24          D060            0.025196\n",
       "28       E069_01            0.024956\n",
       "20          A006            0.024435\n",
       "34       E069_11            0.024426\n",
       "29       E069_02            0.024414\n",
       "32       E069_06            0.024345\n",
       "35       E069_12            0.023778\n",
       "22          D054            0.023543\n",
       "33       E069_10            0.022772\n",
       "30       E069_04            0.022588\n",
       "11          F117            0.022449\n",
       "15          F123            0.021594\n",
       "21          A008            0.021001\n",
       "16         X025R            0.020349\n",
       "25          E015            0.019133\n",
       "19          A005            0.017857\n",
       "17     X047R_WVS            0.017554\n",
       "0           A029            0.016393\n",
       "26          E016            0.015472\n",
       "6           A040            0.013618\n",
       "5           A039            0.013372\n",
       "1           A030            0.013293\n",
       "4           A035            0.013242\n",
       "7           A041            0.012975\n",
       "2           A032            0.012634\n",
       "3           A034            0.010834"
      ]
     },
     "execution_count": 13,
     "metadata": {},
     "output_type": "execute_result"
    }
   ],
   "source": [
    "importances = pd.DataFrame({'feature_names': wvs_preprocessed.drop(columns = ['authoritarianism_index', 'COUNTRY_ALPHA', 'aut_categories']).columns,\n",
    "              'feature_importance': rf.feature_importances_})\n",
    "importances.sort_values(by = 'feature_importance', ascending = False, inplace = True)\n",
    "importances"
   ]
  },
  {
   "cell_type": "code",
   "execution_count": 14,
   "id": "1b29366b-d7c7-4719-87e9-7f6d917a8fb4",
   "metadata": {},
   "outputs": [
    {
     "data": {
      "image/png": "[encoded data removed]",
      "text/plain": [
       "<Figure size 1200x1000 with 1 Axes>"
      ]
     },
     "metadata": {},
     "output_type": "display_data"
    }
   ],
   "source": [
    "plt.figure(figsize=(12, 10))\n",
    "\n",
    "imp = importances.head(10).sort_values(by='feature_importance', ascending=True)\n",
    "\n",
    "plt.barh(imp['feature_names'],\n",
    "         imp['feature_importance'],\n",
    "         color=['#933e3e', '#933e3e', '#933e3e', '#933e3e', '#933e3e', '#933e3e', '#933e3e', '#933e3e', '#933e3e', '#20124d'],\n",
    "         edgecolor='black',\n",
    "         height=.5)\n",
    "\n",
    "plt.gca().set_facecolor('#ede6de')\n",
    "\n",
    "plt.xlabel('Feature Importance')\n",
    "plt.ylabel('Feature Names')\n",
    "\n",
    "plt.title('Top 10 Feature Importances');"
   ]
  },
  {
   "cell_type": "markdown",
   "id": "f9ab9e67-0260-488e-8fcb-8a7fdc8d4af0",
   "metadata": {},
   "source": [
    "Above is a list of the top 10 feature importances in the model. Here is a reminder of what these variables mean:\n",
    "\n",
    "| Question ID | Question Description |\n",
    "|---|---|\n",
    "| S020 | Year of Survey |\n",
    "| A170 | \"All things considered, how satisfied are you with your life as a whole these days?\" |\n",
    "| F121 | \"Please tell me for each of the following actions whether you think it can always be justified, never be justified, or something in between\" (**Divorce**) |\n",
    "| F028 | \"Apart from weddings, funerals and christenings, about how often do you attend religious services these days?\" |\n",
    "| F063 | \"How important is God in your life?\" |\n",
    "| F120 | \"Please tell me for each of the following actions whether you think it can always be justified, never be justified, or something in between\" (**Abortion**) |\n",
    "| F118 | \"Please tell me for each of the following actions whether you think it can always be justified, never be justified, or something in between\" (**Homosexuality**) |\n",
    "| X045 | Social class (subjective/self described) |\n",
    "| D059 | \"Men make better political leaders than women do\" (agree/disagree) |\n",
    "| A004 | \"For each of the following aspects, indicate how important it is in your life\" (**Politics**) |"
   ]
  },
  {
   "cell_type": "markdown",
   "id": "af56d349-9085-4201-ac63-e8b76c27fb95",
   "metadata": {},
   "source": [
    "As you can see from the above table, some of the attitudes most related to support for authoritarianism are attitudes towards religion, divorce, abortion and homosexuality"
   ]
  },
  {
   "cell_type": "markdown",
   "id": "caf67481-b14a-4e29-b676-97990d787cc5",
   "metadata": {},
   "source": [
    "## Production Model - Dense Neural Network"
   ]
  },
  {
   "cell_type": "code",
   "execution_count": 15,
   "id": "63090fc1-fb28-4752-8142-a9b5dd3a5cc9",
   "metadata": {},
   "outputs": [
    {
     "name": "stdout",
     "output_type": "stream",
     "text": [
      "Keras model archive loading:\n",
      "File Name                                             Modified             Size\n",
      "config.json                                    2023-04-17 11:52:12         3248\n",
      "metadata.json                                  2023-04-17 11:52:12           64\n",
      "variables.h5                                   2023-04-17 11:52:14    101897496\n",
      "Keras weights file (<HDF5 file \"variables.h5\" (mode r)>) loading:\n",
      "...layers\\batch_normalization\n",
      "......vars\n",
      ".........0\n",
      ".........1\n",
      ".........2\n",
      ".........3\n",
      "...layers\\dense\n",
      "......vars\n",
      ".........0\n",
      ".........1\n",
      "...layers\\dense_1\n",
      "......vars\n",
      ".........0\n",
      ".........1\n",
      "...layers\\dense_2\n",
      "......vars\n",
      ".........0\n",
      ".........1\n",
      "...layers\\dense_3\n",
      "......vars\n",
      ".........0\n",
      ".........1\n",
      "...layers\\dropout\n",
      "......vars\n",
      "...layers\\dropout_1\n",
      "......vars\n",
      "...layers\\dropout_2\n",
      "......vars\n",
      "...metrics\\mean\n",
      "......vars\n",
      ".........0\n",
      ".........1\n",
      "...metrics\\mean_metric_wrapper\n",
      "......vars\n",
      ".........0\n",
      ".........1\n",
      "...optimizer\n",
      "......vars\n",
      ".........0\n",
      ".........1\n",
      ".........10\n",
      ".........11\n",
      ".........12\n",
      ".........13\n",
      ".........14\n",
      ".........15\n",
      ".........16\n",
      ".........17\n",
      ".........18\n",
      ".........19\n",
      ".........2\n",
      ".........20\n",
      ".........3\n",
      ".........4\n",
      ".........5\n",
      ".........6\n",
      ".........7\n",
      ".........8\n",
      ".........9\n",
      "...vars\n"
     ]
    }
   ],
   "source": [
    "with open('../models/dnn.pickle', 'rb') as f:\n",
    "    dnn = pickle.load(f)"
   ]
  },
  {
   "cell_type": "code",
   "execution_count": 16,
   "id": "a905f390-26aa-4a59-969a-6ae4a1a20e1d",
   "metadata": {},
   "outputs": [
    {
     "name": "stdout",
     "output_type": "stream",
     "text": [
      "Keras model archive loading:\n",
      "File Name                                             Modified             Size\n",
      "config.json                                    2023-04-17 12:02:34         3248\n",
      "metadata.json                                  2023-04-17 12:02:34           64\n",
      "variables.h5                                   2023-04-17 12:02:34    101897496\n",
      "Keras weights file (<HDF5 file \"variables.h5\" (mode r)>) loading:\n",
      "...layers\\batch_normalization\n",
      "......vars\n",
      ".........0\n",
      ".........1\n",
      ".........2\n",
      ".........3\n",
      "...layers\\dense\n",
      "......vars\n",
      ".........0\n",
      ".........1\n",
      "...layers\\dense_1\n",
      "......vars\n",
      ".........0\n",
      ".........1\n",
      "...layers\\dense_2\n",
      "......vars\n",
      ".........0\n",
      ".........1\n",
      "...layers\\dense_3\n",
      "......vars\n",
      ".........0\n",
      ".........1\n",
      "...layers\\dropout\n",
      "......vars\n",
      "...layers\\dropout_1\n",
      "......vars\n",
      "...layers\\dropout_2\n",
      "......vars\n",
      "...metrics\\mean\n",
      "......vars\n",
      ".........0\n",
      ".........1\n",
      "...metrics\\mean_metric_wrapper\n",
      "......vars\n",
      ".........0\n",
      ".........1\n",
      "...optimizer\n",
      "......vars\n",
      ".........0\n",
      ".........1\n",
      ".........10\n",
      ".........11\n",
      ".........12\n",
      ".........13\n",
      ".........14\n",
      ".........15\n",
      ".........16\n",
      ".........17\n",
      ".........18\n",
      ".........19\n",
      ".........2\n",
      ".........20\n",
      ".........3\n",
      ".........4\n",
      ".........5\n",
      ".........6\n",
      ".........7\n",
      ".........8\n",
      ".........9\n",
      "...vars\n"
     ]
    }
   ],
   "source": [
    "with open('../models/dnn_history.pickle', 'rb') as f:\n",
    "    history = pickle.load(f)"
   ]
  },
  {
   "cell_type": "markdown",
   "id": "576e0339-5a3c-45a4-ac17-cf903c9c2fe5",
   "metadata": {},
   "source": [
    "Again, let's take another look at the model's performance:"
   ]
  },
  {
   "cell_type": "code",
   "execution_count": 22,
   "id": "49115aab-a8ef-48e3-a3c4-48c950817925",
   "metadata": {},
   "outputs": [
    {
     "name": "stdout",
     "output_type": "stream",
     "text": [
      "899/899 [==============================] - 8s 8ms/step - loss: 0.5447 - acc: 0.7119\n"
     ]
    },
    {
     "data": {
      "text/plain": [
       "[0.5447426438331604, 0.7118608951568604]"
      ]
     },
     "execution_count": 22,
     "metadata": {},
     "output_type": "execute_result"
    }
   ],
   "source": [
    "dnn.evaluate(Z_test, y_test)"
   ]
  },
  {
   "cell_type": "code",
   "execution_count": 18,
   "id": "a9e48542-cedc-462a-94ca-e6548bfaf611",
   "metadata": {},
   "outputs": [
    {
     "name": "stdout",
     "output_type": "stream",
     "text": [
      "899/899 [==============================] - 8s 8ms/step\n"
     ]
    },
    {
     "data": {
      "text/plain": [
       "array([[1.],\n",
       "       [0.],\n",
       "       [0.],\n",
       "       ...,\n",
       "       [0.],\n",
       "       [1.],\n",
       "       [0.]], dtype=float32)"
      ]
     },
     "execution_count": 18,
     "metadata": {},
     "output_type": "execute_result"
    }
   ],
   "source": [
    "y_preds = np.round(dnn.predict(Z_test))\n",
    "y_preds"
   ]
  },
  {
   "cell_type": "code",
   "execution_count": 19,
   "id": "5cbcfe72-76bf-4335-bddd-b8edf944ac12",
   "metadata": {},
   "outputs": [
    {
     "data": {
      "image/png": "[encoded data removed]",
      "text/plain": [
       "<Figure size 640x480 with 2 Axes>"
      ]
     },
     "metadata": {},
     "output_type": "display_data"
    }
   ],
   "source": [
    "metrics.ConfusionMatrixDisplay.from_predictions(y_test, y_preds, cmap = 'Reds')\n",
    "plt.title(\"Confusion Matrix for Dense Neural Network\");"
   ]
  },
  {
   "cell_type": "markdown",
   "id": "d7ed83e9-c32d-4e6b-a2ba-7499a702d7a3",
   "metadata": {},
   "source": [
    "As you can see from the accuracy score, this model performed similarly to the Random Forest. The reason I prefer it is it's the only model that was it's performance on sensitivity. My models as a whole were very reluctant to predict the target value. The Dense Neural Network was the only model that correctly predicted the target value more often than not"
   ]
  },
  {
   "cell_type": "markdown",
   "id": "b6fb3828-f165-416a-b4ff-79e3f3c671c7",
   "metadata": {},
   "source": [
    "## Conclusions"
   ]
  },
  {
   "cell_type": "markdown",
   "id": "add891e2-ac32-42f4-a4c9-87781dd6bca8",
   "metadata": {},
   "source": [
    "This project aimed to predict support for authoritarianism using data from the World Values Survey dataset. The findings reveal that authoritarian thinking is related to attitudes towards religion, divorce, abortion, homosexuality, and misogyny, and is particularly prevalent in Latin America and the Middle East. The machine learning model proved relatively effective at predicting support for authoritarianism, achieving 71% accuracy over a 63% baseline. These results provide valuable insights into the underlying causes of authoritarianism and can inform strategies to prevent its spread in democratic societies."
   ]
  },
  {
   "cell_type": "markdown",
   "id": "e05d2ace-539c-4fba-86ba-33023d7b2f00",
   "metadata": {},
   "source": [
    "## Next Steps"
   ]
  },
  {
   "cell_type": "markdown",
   "id": "0ef5fe98-7274-4ef7-9525-03ea0597c36c",
   "metadata": {},
   "source": [
    "- Delve further into the relationship between economic insecurity and support for authoritarianism\n",
    "- Investigate the role of social media in the spread of authoritarianism\n",
    "- Compare individual attitudes towards authoritarianism to measures of societal oppression such as the Human Freedom Index"
   ]
  }
 ],
 "metadata": {
  "kernelspec": {
   "display_name": "Python 3 (ipykernel)",
   "language": "python",
   "name": "python3"
  },
  "language_info": {
   "codemirror_mode": {
    "name": "ipython",
    "version": 3
   },
   "file_extension": ".py",
   "mimetype": "text/x-python",
   "name": "python",
   "nbconvert_exporter": "python",
   "pygments_lexer": "ipython3",
   "version": "3.9.13"
  }
 },
 "nbformat": 4,
 "nbformat_minor": 5
}
