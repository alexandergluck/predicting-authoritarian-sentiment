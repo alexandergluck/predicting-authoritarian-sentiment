{
 "cells": [
  {
   "cell_type": "code",
   "execution_count": 139,
   "id": "9ae48707-62a9-4ded-81f9-9f7d95f2a633",
   "metadata": {},
   "outputs": [],
   "source": [
    "import numpy as np\n",
    "import pandas as pd\n",
    "import matplotlib.pyplot as plt\n",
    "import seaborn as sns\n",
    "\n",
    "from sklearn.model_selection import train_test_split, GridSearchCV\n",
    "from sklearn.preprocessing import StandardScaler\n",
    "from sklearn.ensemble import RandomForestClassifier, GradientBoostingClassifier\n",
    "from sklearn.linear_model import LogisticRegression\n",
    "from sklearn import metrics\n",
    "\n",
    "from tensorflow.keras.models import Sequential\n",
    "from tensorflow.keras.layers import Dense, Dropout, BatchNormalization\n",
    "from tensorflow.keras.callbacks import EarlyStopping\n",
    "from tensorflow.keras.losses import CategoricalCrossentropy\n",
    "from tensorflow import math\n",
    "\n",
    "import pickle"
   ]
  },
  {
   "cell_type": "markdown",
   "id": "2c7fbc4e-2bcd-4d07-950a-2639041c3ed7",
   "metadata": {},
   "source": [
    "# Preprocessing and Modelling"
   ]
  },
  {
   "cell_type": "code",
   "execution_count": 2,
   "id": "ec77ee89-2100-4821-a7cb-04d3b0b6312d",
   "metadata": {},
   "outputs": [],
   "source": [
    "wvs = pd.read_csv('../data/wvs_model.csv')"
   ]
  },
  {
   "cell_type": "code",
   "execution_count": 3,
   "id": "4d292df2-1901-4c69-b6f0-93f66d949cbd",
   "metadata": {},
   "outputs": [
    {
     "data": {
      "text/html": [
       "<div>\n",
       "<style scoped>\n",
       "    .dataframe tbody tr th:only-of-type {\n",
       "        vertical-align: middle;\n",
       "    }\n",
       "\n",
       "    .dataframe tbody tr th {\n",
       "        vertical-align: top;\n",
       "    }\n",
       "\n",
       "    .dataframe thead th {\n",
       "        text-align: right;\n",
       "    }\n",
       "</style>\n",
       "<table border=\"1\" class=\"dataframe\">\n",
       "  <thead>\n",
       "    <tr style=\"text-align: right;\">\n",
       "      <th></th>\n",
       "      <th>region</th>\n",
       "      <th>authoritarianism_index</th>\n",
       "      <th>A029</th>\n",
       "      <th>A030</th>\n",
       "      <th>A032</th>\n",
       "      <th>A034</th>\n",
       "      <th>A035</th>\n",
       "      <th>A039</th>\n",
       "      <th>A040</th>\n",
       "      <th>A041</th>\n",
       "      <th>...</th>\n",
       "      <th>E069_15</th>\n",
       "      <th>F028</th>\n",
       "      <th>X045</th>\n",
       "      <th>E003</th>\n",
       "      <th>X001</th>\n",
       "      <th>X007</th>\n",
       "      <th>X028</th>\n",
       "      <th>COUNTRY_ALPHA</th>\n",
       "      <th>S002VS</th>\n",
       "      <th>S020</th>\n",
       "    </tr>\n",
       "  </thead>\n",
       "  <tbody>\n",
       "    <tr>\n",
       "      <th>0</th>\n",
       "      <td>Eastern Europe</td>\n",
       "      <td>0.50</td>\n",
       "      <td>-2.0</td>\n",
       "      <td>2.0</td>\n",
       "      <td>2.0</td>\n",
       "      <td>-2.0</td>\n",
       "      <td>2.0</td>\n",
       "      <td>-2.0</td>\n",
       "      <td>-2.0</td>\n",
       "      <td>-2.0</td>\n",
       "      <td>...</td>\n",
       "      <td>-1.0</td>\n",
       "      <td>-4.0</td>\n",
       "      <td>0.0</td>\n",
       "      <td>-1</td>\n",
       "      <td>2</td>\n",
       "      <td>6</td>\n",
       "      <td>6</td>\n",
       "      <td>ALB</td>\n",
       "      <td>4</td>\n",
       "      <td>2002</td>\n",
       "    </tr>\n",
       "    <tr>\n",
       "      <th>1</th>\n",
       "      <td>Eastern Europe</td>\n",
       "      <td>0.50</td>\n",
       "      <td>-2.0</td>\n",
       "      <td>2.0</td>\n",
       "      <td>-2.0</td>\n",
       "      <td>-2.0</td>\n",
       "      <td>2.0</td>\n",
       "      <td>2.0</td>\n",
       "      <td>-2.0</td>\n",
       "      <td>-2.0</td>\n",
       "      <td>...</td>\n",
       "      <td>0.0</td>\n",
       "      <td>1.0</td>\n",
       "      <td>2.0</td>\n",
       "      <td>-1</td>\n",
       "      <td>1</td>\n",
       "      <td>1</td>\n",
       "      <td>3</td>\n",
       "      <td>ALB</td>\n",
       "      <td>4</td>\n",
       "      <td>2002</td>\n",
       "    </tr>\n",
       "    <tr>\n",
       "      <th>2</th>\n",
       "      <td>Eastern Europe</td>\n",
       "      <td>0.50</td>\n",
       "      <td>-2.0</td>\n",
       "      <td>2.0</td>\n",
       "      <td>-2.0</td>\n",
       "      <td>-2.0</td>\n",
       "      <td>2.0</td>\n",
       "      <td>2.0</td>\n",
       "      <td>-2.0</td>\n",
       "      <td>-2.0</td>\n",
       "      <td>...</td>\n",
       "      <td>0.0</td>\n",
       "      <td>-2.0</td>\n",
       "      <td>2.0</td>\n",
       "      <td>-1</td>\n",
       "      <td>1</td>\n",
       "      <td>1</td>\n",
       "      <td>4</td>\n",
       "      <td>ALB</td>\n",
       "      <td>4</td>\n",
       "      <td>2002</td>\n",
       "    </tr>\n",
       "    <tr>\n",
       "      <th>3</th>\n",
       "      <td>Eastern Europe</td>\n",
       "      <td>-0.50</td>\n",
       "      <td>2.0</td>\n",
       "      <td>-2.0</td>\n",
       "      <td>2.0</td>\n",
       "      <td>2.0</td>\n",
       "      <td>-2.0</td>\n",
       "      <td>2.0</td>\n",
       "      <td>-2.0</td>\n",
       "      <td>-2.0</td>\n",
       "      <td>...</td>\n",
       "      <td>-2.0</td>\n",
       "      <td>-4.0</td>\n",
       "      <td>4.0</td>\n",
       "      <td>-1</td>\n",
       "      <td>2</td>\n",
       "      <td>1</td>\n",
       "      <td>1</td>\n",
       "      <td>ALB</td>\n",
       "      <td>4</td>\n",
       "      <td>2002</td>\n",
       "    </tr>\n",
       "    <tr>\n",
       "      <th>4</th>\n",
       "      <td>Eastern Europe</td>\n",
       "      <td>-0.25</td>\n",
       "      <td>-2.0</td>\n",
       "      <td>2.0</td>\n",
       "      <td>2.0</td>\n",
       "      <td>-2.0</td>\n",
       "      <td>2.0</td>\n",
       "      <td>-2.0</td>\n",
       "      <td>-2.0</td>\n",
       "      <td>-2.0</td>\n",
       "      <td>...</td>\n",
       "      <td>-2.0</td>\n",
       "      <td>-4.0</td>\n",
       "      <td>1.0</td>\n",
       "      <td>-1</td>\n",
       "      <td>1</td>\n",
       "      <td>1</td>\n",
       "      <td>3</td>\n",
       "      <td>ALB</td>\n",
       "      <td>4</td>\n",
       "      <td>2002</td>\n",
       "    </tr>\n",
       "  </tbody>\n",
       "</table>\n",
       "<p>5 rows × 57 columns</p>\n",
       "</div>"
      ],
      "text/plain": [
       "           region  authoritarianism_index  A029  A030  A032  A034  A035  A039  \\\n",
       "0  Eastern Europe                    0.50  -2.0   2.0   2.0  -2.0   2.0  -2.0   \n",
       "1  Eastern Europe                    0.50  -2.0   2.0  -2.0  -2.0   2.0   2.0   \n",
       "2  Eastern Europe                    0.50  -2.0   2.0  -2.0  -2.0   2.0   2.0   \n",
       "3  Eastern Europe                   -0.50   2.0  -2.0   2.0   2.0  -2.0   2.0   \n",
       "4  Eastern Europe                   -0.25  -2.0   2.0   2.0  -2.0   2.0  -2.0   \n",
       "\n",
       "   A040  A041  ...  E069_15  F028  X045  E003  X001  X007  X028  \\\n",
       "0  -2.0  -2.0  ...     -1.0  -4.0   0.0    -1     2     6     6   \n",
       "1  -2.0  -2.0  ...      0.0   1.0   2.0    -1     1     1     3   \n",
       "2  -2.0  -2.0  ...      0.0  -2.0   2.0    -1     1     1     4   \n",
       "3  -2.0  -2.0  ...     -2.0  -4.0   4.0    -1     2     1     1   \n",
       "4  -2.0  -2.0  ...     -2.0  -4.0   1.0    -1     1     1     3   \n",
       "\n",
       "   COUNTRY_ALPHA  S002VS  S020  \n",
       "0            ALB       4  2002  \n",
       "1            ALB       4  2002  \n",
       "2            ALB       4  2002  \n",
       "3            ALB       4  2002  \n",
       "4            ALB       4  2002  \n",
       "\n",
       "[5 rows x 57 columns]"
      ]
     },
     "execution_count": 3,
     "metadata": {},
     "output_type": "execute_result"
    }
   ],
   "source": [
    "wvs.head()"
   ]
  },
  {
   "cell_type": "code",
   "execution_count": 4,
   "id": "a12664d7-ee5f-4b35-8866-dab06b56a046",
   "metadata": {},
   "outputs": [
    {
     "data": {
      "text/plain": [
       "(406827, 57)"
      ]
     },
     "execution_count": 4,
     "metadata": {},
     "output_type": "execute_result"
    }
   ],
   "source": [
    "wvs.shape"
   ]
  },
  {
   "cell_type": "markdown",
   "id": "7ea70047-a22f-4a3d-8835-c43e55609098",
   "metadata": {},
   "source": [
    "## Preprocessing"
   ]
  },
  {
   "cell_type": "markdown",
   "id": "5c8ad59f-701c-4216-9dbd-c3c5704481df",
   "metadata": {},
   "source": [
    "### Binarizing Y Variable"
   ]
  },
  {
   "cell_type": "markdown",
   "id": "e8b26942-89ec-4ca7-b039-68bc5ce5f9bc",
   "metadata": {},
   "source": [
    "The next step is to turn this into a classification problem by binarizing my authoritarianism index variable.. I'll do this by treating all scores greater than 0 as **True**, while 0 or negative scores will be **False**:"
   ]
  },
  {
   "cell_type": "code",
   "execution_count": 8,
   "id": "002bbad6-de05-49bf-8355-b6b6e06333d0",
   "metadata": {},
   "outputs": [
    {
     "data": {
      "text/plain": [
       "aut_categories\n",
       "0                 0.629356\n",
       "1                 0.370644\n",
       "dtype: float64"
      ]
     },
     "execution_count": 8,
     "metadata": {},
     "output_type": "execute_result"
    }
   ],
   "source": [
    "wvs['aut_categories'] = np.where(wvs['authoritarianism_index'] > 0, 1, 0)\n",
    "\n",
    "wvs[['aut_categories']].value_counts(normalize=True)"
   ]
  },
  {
   "cell_type": "code",
   "execution_count": 6,
   "id": "d06915bf-827e-42ce-ab84-8ea8cf24220a",
   "metadata": {},
   "outputs": [
    {
     "data": {
      "text/plain": [
       "region                        0\n",
       "authoritarianism_index        0\n",
       "A029                        562\n",
       "A030                       2805\n",
       "A032                        334\n",
       "A034                       4123\n",
       "A035                        408\n",
       "A039                       7162\n",
       "A040                       2774\n",
       "A041                       4102\n",
       "A124_02                   22433\n",
       "A124_03                   22568\n",
       "A124_06                   26207\n",
       "A124_07                   21342\n",
       "A124_08                   22152\n",
       "A124_09                   29289\n",
       "A170                       3084\n",
       "F063                      16001\n",
       "F116                      21815\n",
       "F117                      10864\n",
       "F118                      29415\n",
       "F120                      16823\n",
       "F121                      13558\n",
       "F123                      21084\n",
       "X025R                      5032\n",
       "X047R_WVS                 16234\n",
       "A004                       7545\n",
       "A005                       8050\n",
       "A006                       7015\n",
       "A008                       3963\n",
       "A165                       6003\n",
       "D054                      13358\n",
       "D059                      10150\n",
       "D060                       9599\n",
       "E015                      12329\n",
       "E016                      11407\n",
       "E023                       8994\n",
       "E069_01                   13051\n",
       "E069_02                   21029\n",
       "E069_04                   12853\n",
       "E069_05                   20512\n",
       "E069_06                   18150\n",
       "E069_10                    9984\n",
       "E069_11                   20160\n",
       "E069_12                   21965\n",
       "E069_13                   14960\n",
       "E069_14                   16449\n",
       "E069_15                   18117\n",
       "F028                      14080\n",
       "X045                      20011\n",
       "E003                          0\n",
       "X001                          0\n",
       "X007                          0\n",
       "X028                          0\n",
       "COUNTRY_ALPHA                 0\n",
       "S002VS                        0\n",
       "S020                          0\n",
       "dtype: int64"
      ]
     },
     "execution_count": 6,
     "metadata": {},
     "output_type": "execute_result"
    }
   ],
   "source": [
    "wvs.isna().sum()"
   ]
  },
  {
   "cell_type": "markdown",
   "id": "b14a8213-4456-4007-8e99-7a1fb074b715",
   "metadata": {},
   "source": [
    "### Dropping Less Relevent Variables"
   ]
  },
  {
   "cell_type": "markdown",
   "id": "b22d4fee-1670-46e1-8456-26625b1ae7ed",
   "metadata": {},
   "source": [
    "A number of the questions above showed very little correlation to my y variable in the correlation plot that I made in my previous notebook. Better to drop some of these variables then to have to lose observations later when dropping nulls in order to include them"
   ]
  },
  {
   "cell_type": "code",
   "execution_count": 7,
   "id": "6ef67c1e-d234-4b80-859f-870787dc42d6",
   "metadata": {},
   "outputs": [],
   "source": [
    "wvs = wvs.drop(columns = ['X028', 'X007', 'X001', 'E003', 'A124_08', 'region', 'A124_07', 'A124_09', 'A124_03', 'A124_02', 'A124_06', 'A165', 'S002VS'])"
   ]
  },
  {
   "cell_type": "markdown",
   "id": "a330ad8d-5e2f-4187-a383-ec72149c4084",
   "metadata": {},
   "source": [
    "### Dropping Missing Variables"
   ]
  },
  {
   "cell_type": "markdown",
   "id": "97109685-5f51-4ddf-9907-4c330a9fbe4f",
   "metadata": {},
   "source": [
    "It looks like if I were to drop all na's at this stage, even though we lose almost 1/3 of the data, we're still left with a pretty robust data set, with about 287k observations. It also looks like removing nulls does not have much of an effect on the distribution of my y variable, with the target representing roughly 37% of the data in each case"
   ]
  },
  {
   "cell_type": "code",
   "execution_count": 9,
   "id": "c66d4cf7-bbb5-4def-889b-95edaf1ade25",
   "metadata": {},
   "outputs": [],
   "source": [
    "nonas = wvs.dropna()"
   ]
  },
  {
   "cell_type": "code",
   "execution_count": 12,
   "id": "cc496f7e-d0f6-4ffb-bc6d-d8f51df082bf",
   "metadata": {},
   "outputs": [
    {
     "data": {
      "text/plain": [
       "(287493, 45)"
      ]
     },
     "execution_count": 12,
     "metadata": {},
     "output_type": "execute_result"
    }
   ],
   "source": [
    "nonas.shape"
   ]
  },
  {
   "cell_type": "code",
   "execution_count": 10,
   "id": "df5d7671-5b44-4943-8b22-2d99f15e19c2",
   "metadata": {},
   "outputs": [
    {
     "data": {
      "text/plain": [
       "aut_categories\n",
       "0                 0.63044\n",
       "1                 0.36956\n",
       "dtype: float64"
      ]
     },
     "execution_count": 10,
     "metadata": {},
     "output_type": "execute_result"
    }
   ],
   "source": [
    "nonas[['aut_categories']].value_counts(normalize=True)"
   ]
  },
  {
   "cell_type": "markdown",
   "id": "d7d1f29e-f4ab-4fc7-9d02-bbc937d31472",
   "metadata": {},
   "source": [
    "### Train Test Split"
   ]
  },
  {
   "cell_type": "code",
   "execution_count": 13,
   "id": "b9f5d7ed-22d6-4d2a-9506-456311b71f4e",
   "metadata": {},
   "outputs": [],
   "source": [
    "X = nonas.drop(columns = ['authoritarianism_index', 'COUNTRY_ALPHA', 'aut_categories'])\n",
    "y = nonas['aut_categories']\n",
    "\n",
    "X_train, X_test, y_train, y_test = train_test_split(X, y, test_size =.1, random_state = 1122)"
   ]
  },
  {
   "cell_type": "markdown",
   "id": "bb192160-e681-4c57-8fca-aa7a274bf0ef",
   "metadata": {},
   "source": [
    "### Standard Scaling"
   ]
  },
  {
   "cell_type": "code",
   "execution_count": 14,
   "id": "49009750-5c8a-49e3-8abb-24d48658607c",
   "metadata": {},
   "outputs": [],
   "source": [
    "ss = StandardScaler()\n",
    "\n",
    "Z_train = ss.fit_transform(X_train)\n",
    "Z_test = ss.transform (X_test)"
   ]
  },
  {
   "cell_type": "markdown",
   "id": "34026932-55e0-4fb9-b100-91cd10140b97",
   "metadata": {},
   "source": [
    "## Modelling"
   ]
  },
  {
   "cell_type": "markdown",
   "id": "9ae53829-160e-4e81-a4cf-231c3e811e99",
   "metadata": {},
   "source": [
    "### Random Forest"
   ]
  },
  {
   "cell_type": "code",
   "execution_count": 141,
   "id": "eac42204-3032-4669-892f-3fe46246d196",
   "metadata": {},
   "outputs": [
    {
     "data": {
      "text/html": [
       "<style>#sk-container-id-4 {color: black;background-color: white;}#sk-container-id-4 pre{padding: 0;}#sk-container-id-4 div.sk-toggleable {background-color: white;}#sk-container-id-4 label.sk-toggleable__label {cursor: pointer;display: block;width: 100%;margin-bottom: 0;padding: 0.3em;box-sizing: border-box;text-align: center;}#sk-container-id-4 label.sk-toggleable__label-arrow:before {content: \"▸\";float: left;margin-right: 0.25em;color: #696969;}#sk-container-id-4 label.sk-toggleable__label-arrow:hover:before {color: black;}#sk-container-id-4 div.sk-estimator:hover label.sk-toggleable__label-arrow:before {color: black;}#sk-container-id-4 div.sk-toggleable__content {max-height: 0;max-width: 0;overflow: hidden;text-align: left;background-color: #f0f8ff;}#sk-container-id-4 div.sk-toggleable__content pre {margin: 0.2em;color: black;border-radius: 0.25em;background-color: #f0f8ff;}#sk-container-id-4 input.sk-toggleable__control:checked~div.sk-toggleable__content {max-height: 200px;max-width: 100%;overflow: auto;}#sk-container-id-4 input.sk-toggleable__control:checked~label.sk-toggleable__label-arrow:before {content: \"▾\";}#sk-container-id-4 div.sk-estimator input.sk-toggleable__control:checked~label.sk-toggleable__label {background-color: #d4ebff;}#sk-container-id-4 div.sk-label input.sk-toggleable__control:checked~label.sk-toggleable__label {background-color: #d4ebff;}#sk-container-id-4 input.sk-hidden--visually {border: 0;clip: rect(1px 1px 1px 1px);clip: rect(1px, 1px, 1px, 1px);height: 1px;margin: -1px;overflow: hidden;padding: 0;position: absolute;width: 1px;}#sk-container-id-4 div.sk-estimator {font-family: monospace;background-color: #f0f8ff;border: 1px dotted black;border-radius: 0.25em;box-sizing: border-box;margin-bottom: 0.5em;}#sk-container-id-4 div.sk-estimator:hover {background-color: #d4ebff;}#sk-container-id-4 div.sk-parallel-item::after {content: \"\";width: 100%;border-bottom: 1px solid gray;flex-grow: 1;}#sk-container-id-4 div.sk-label:hover label.sk-toggleable__label {background-color: #d4ebff;}#sk-container-id-4 div.sk-serial::before {content: \"\";position: absolute;border-left: 1px solid gray;box-sizing: border-box;top: 0;bottom: 0;left: 50%;z-index: 0;}#sk-container-id-4 div.sk-serial {display: flex;flex-direction: column;align-items: center;background-color: white;padding-right: 0.2em;padding-left: 0.2em;position: relative;}#sk-container-id-4 div.sk-item {position: relative;z-index: 1;}#sk-container-id-4 div.sk-parallel {display: flex;align-items: stretch;justify-content: center;background-color: white;position: relative;}#sk-container-id-4 div.sk-item::before, #sk-container-id-4 div.sk-parallel-item::before {content: \"\";position: absolute;border-left: 1px solid gray;box-sizing: border-box;top: 0;bottom: 0;left: 50%;z-index: -1;}#sk-container-id-4 div.sk-parallel-item {display: flex;flex-direction: column;z-index: 1;position: relative;background-color: white;}#sk-container-id-4 div.sk-parallel-item:first-child::after {align-self: flex-end;width: 50%;}#sk-container-id-4 div.sk-parallel-item:last-child::after {align-self: flex-start;width: 50%;}#sk-container-id-4 div.sk-parallel-item:only-child::after {width: 0;}#sk-container-id-4 div.sk-dashed-wrapped {border: 1px dashed gray;margin: 0 0.4em 0.5em 0.4em;box-sizing: border-box;padding-bottom: 0.4em;background-color: white;}#sk-container-id-4 div.sk-label label {font-family: monospace;font-weight: bold;display: inline-block;line-height: 1.2em;}#sk-container-id-4 div.sk-label-container {text-align: center;}#sk-container-id-4 div.sk-container {/* jupyter's `normalize.less` sets `[hidden] { display: none; }` but bootstrap.min.css set `[hidden] { display: none !important; }` so we also need the `!important` here to be able to override the default hidden behavior on the sphinx rendered scikit-learn.org. See: https://github.com/scikit-learn/scikit-learn/issues/21755 */display: inline-block !important;position: relative;}#sk-container-id-4 div.sk-text-repr-fallback {display: none;}</style><div id=\"sk-container-id-4\" class=\"sk-top-container\"><div class=\"sk-text-repr-fallback\"><pre>RandomForestClassifier(n_estimators=1800, n_jobs=12)</pre><b>In a Jupyter environment, please rerun this cell to show the HTML representation or trust the notebook. <br />On GitHub, the HTML representation is unable to render, please try loading this page with nbviewer.org.</b></div><div class=\"sk-container\" hidden><div class=\"sk-item\"><div class=\"sk-estimator sk-toggleable\"><input class=\"sk-toggleable__control sk-hidden--visually\" id=\"sk-estimator-id-8\" type=\"checkbox\" checked><label for=\"sk-estimator-id-8\" class=\"sk-toggleable__label sk-toggleable__label-arrow\">RandomForestClassifier</label><div class=\"sk-toggleable__content\"><pre>RandomForestClassifier(n_estimators=1800, n_jobs=12)</pre></div></div></div></div></div>"
      ],
      "text/plain": [
       "RandomForestClassifier(n_estimators=1800, n_jobs=12)"
      ]
     },
     "execution_count": 141,
     "metadata": {},
     "output_type": "execute_result"
    }
   ],
   "source": [
    "rc = RandomForestClassifier(n_estimators=1800, n_jobs=12)\n",
    "\n",
    "rc.fit(Z_train, y_train)"
   ]
  },
  {
   "cell_type": "code",
   "execution_count": 146,
   "id": "7e1a7cac-4eb6-4416-97af-8a7dad989cd4",
   "metadata": {},
   "outputs": [
    {
     "name": "stdout",
     "output_type": "stream",
     "text": [
      "Train accuracy:  0.9999652164503001\n",
      "Test accuracy:  0.7140869565217391\n"
     ]
    }
   ],
   "source": [
    "print('Train accuracy: ', rc.score(Z_train, y_train))\n",
    "print('Test accuracy: ', rc.score(Z_test, y_test))"
   ]
  },
  {
   "cell_type": "code",
   "execution_count": 145,
   "id": "c1ed15ab-6be4-4568-83c9-344538e8ede6",
   "metadata": {},
   "outputs": [
    {
     "data": {
      "image/png": "[encoded data removed]",
      "text/plain": [
       "<Figure size 640x480 with 2 Axes>"
      ]
     },
     "metadata": {},
     "output_type": "display_data"
    }
   ],
   "source": [
    "metrics.ConfusionMatrixDisplay.from_estimator(rc, Z_test, y_test, cmap = 'Blues')\n",
    "\n",
    "plt.title('Confusion Matrix for Random Forest Classifier');"
   ]
  },
  {
   "cell_type": "code",
   "execution_count": 147,
   "id": "680eae72-c082-4020-b9e7-600c2578cc4f",
   "metadata": {},
   "outputs": [
    {
     "data": {
      "text/html": [
       "<div>\n",
       "<style scoped>\n",
       "    .dataframe tbody tr th:only-of-type {\n",
       "        vertical-align: middle;\n",
       "    }\n",
       "\n",
       "    .dataframe tbody tr th {\n",
       "        vertical-align: top;\n",
       "    }\n",
       "\n",
       "    .dataframe thead th {\n",
       "        text-align: right;\n",
       "    }\n",
       "</style>\n",
       "<table border=\"1\" class=\"dataframe\">\n",
       "  <thead>\n",
       "    <tr style=\"text-align: right;\">\n",
       "      <th></th>\n",
       "      <th>feature_names</th>\n",
       "      <th>feature_importance</th>\n",
       "    </tr>\n",
       "  </thead>\n",
       "  <tbody>\n",
       "    <tr>\n",
       "      <th>41</th>\n",
       "      <td>S020</td>\n",
       "      <td>0.052281</td>\n",
       "    </tr>\n",
       "    <tr>\n",
       "      <th>8</th>\n",
       "      <td>A170</td>\n",
       "      <td>0.041690</td>\n",
       "    </tr>\n",
       "    <tr>\n",
       "      <th>14</th>\n",
       "      <td>F121</td>\n",
       "      <td>0.037537</td>\n",
       "    </tr>\n",
       "    <tr>\n",
       "      <th>39</th>\n",
       "      <td>F028</td>\n",
       "      <td>0.035727</td>\n",
       "    </tr>\n",
       "    <tr>\n",
       "      <th>9</th>\n",
       "      <td>F063</td>\n",
       "      <td>0.034869</td>\n",
       "    </tr>\n",
       "    <tr>\n",
       "      <th>13</th>\n",
       "      <td>F120</td>\n",
       "      <td>0.031207</td>\n",
       "    </tr>\n",
       "    <tr>\n",
       "      <th>12</th>\n",
       "      <td>F118</td>\n",
       "      <td>0.028921</td>\n",
       "    </tr>\n",
       "    <tr>\n",
       "      <th>40</th>\n",
       "      <td>X045</td>\n",
       "      <td>0.028909</td>\n",
       "    </tr>\n",
       "    <tr>\n",
       "      <th>23</th>\n",
       "      <td>D059</td>\n",
       "      <td>0.026469</td>\n",
       "    </tr>\n",
       "    <tr>\n",
       "      <th>18</th>\n",
       "      <td>A004</td>\n",
       "      <td>0.026321</td>\n",
       "    </tr>\n",
       "    <tr>\n",
       "      <th>27</th>\n",
       "      <td>E023</td>\n",
       "      <td>0.026025</td>\n",
       "    </tr>\n",
       "    <tr>\n",
       "      <th>31</th>\n",
       "      <td>E069_05</td>\n",
       "      <td>0.025772</td>\n",
       "    </tr>\n",
       "    <tr>\n",
       "      <th>38</th>\n",
       "      <td>E069_15</td>\n",
       "      <td>0.025766</td>\n",
       "    </tr>\n",
       "    <tr>\n",
       "      <th>36</th>\n",
       "      <td>E069_13</td>\n",
       "      <td>0.025500</td>\n",
       "    </tr>\n",
       "    <tr>\n",
       "      <th>10</th>\n",
       "      <td>F116</td>\n",
       "      <td>0.025416</td>\n",
       "    </tr>\n",
       "    <tr>\n",
       "      <th>37</th>\n",
       "      <td>E069_14</td>\n",
       "      <td>0.025364</td>\n",
       "    </tr>\n",
       "    <tr>\n",
       "      <th>24</th>\n",
       "      <td>D060</td>\n",
       "      <td>0.025196</td>\n",
       "    </tr>\n",
       "    <tr>\n",
       "      <th>28</th>\n",
       "      <td>E069_01</td>\n",
       "      <td>0.024956</td>\n",
       "    </tr>\n",
       "    <tr>\n",
       "      <th>20</th>\n",
       "      <td>A006</td>\n",
       "      <td>0.024435</td>\n",
       "    </tr>\n",
       "    <tr>\n",
       "      <th>34</th>\n",
       "      <td>E069_11</td>\n",
       "      <td>0.024426</td>\n",
       "    </tr>\n",
       "    <tr>\n",
       "      <th>29</th>\n",
       "      <td>E069_02</td>\n",
       "      <td>0.024414</td>\n",
       "    </tr>\n",
       "    <tr>\n",
       "      <th>32</th>\n",
       "      <td>E069_06</td>\n",
       "      <td>0.024345</td>\n",
       "    </tr>\n",
       "    <tr>\n",
       "      <th>35</th>\n",
       "      <td>E069_12</td>\n",
       "      <td>0.023778</td>\n",
       "    </tr>\n",
       "    <tr>\n",
       "      <th>22</th>\n",
       "      <td>D054</td>\n",
       "      <td>0.023543</td>\n",
       "    </tr>\n",
       "    <tr>\n",
       "      <th>33</th>\n",
       "      <td>E069_10</td>\n",
       "      <td>0.022772</td>\n",
       "    </tr>\n",
       "    <tr>\n",
       "      <th>30</th>\n",
       "      <td>E069_04</td>\n",
       "      <td>0.022588</td>\n",
       "    </tr>\n",
       "    <tr>\n",
       "      <th>11</th>\n",
       "      <td>F117</td>\n",
       "      <td>0.022449</td>\n",
       "    </tr>\n",
       "    <tr>\n",
       "      <th>15</th>\n",
       "      <td>F123</td>\n",
       "      <td>0.021594</td>\n",
       "    </tr>\n",
       "    <tr>\n",
       "      <th>21</th>\n",
       "      <td>A008</td>\n",
       "      <td>0.021001</td>\n",
       "    </tr>\n",
       "    <tr>\n",
       "      <th>16</th>\n",
       "      <td>X025R</td>\n",
       "      <td>0.020349</td>\n",
       "    </tr>\n",
       "    <tr>\n",
       "      <th>25</th>\n",
       "      <td>E015</td>\n",
       "      <td>0.019133</td>\n",
       "    </tr>\n",
       "    <tr>\n",
       "      <th>19</th>\n",
       "      <td>A005</td>\n",
       "      <td>0.017857</td>\n",
       "    </tr>\n",
       "    <tr>\n",
       "      <th>17</th>\n",
       "      <td>X047R_WVS</td>\n",
       "      <td>0.017554</td>\n",
       "    </tr>\n",
       "    <tr>\n",
       "      <th>0</th>\n",
       "      <td>A029</td>\n",
       "      <td>0.016393</td>\n",
       "    </tr>\n",
       "    <tr>\n",
       "      <th>26</th>\n",
       "      <td>E016</td>\n",
       "      <td>0.015472</td>\n",
       "    </tr>\n",
       "    <tr>\n",
       "      <th>6</th>\n",
       "      <td>A040</td>\n",
       "      <td>0.013618</td>\n",
       "    </tr>\n",
       "    <tr>\n",
       "      <th>5</th>\n",
       "      <td>A039</td>\n",
       "      <td>0.013372</td>\n",
       "    </tr>\n",
       "    <tr>\n",
       "      <th>1</th>\n",
       "      <td>A030</td>\n",
       "      <td>0.013293</td>\n",
       "    </tr>\n",
       "    <tr>\n",
       "      <th>4</th>\n",
       "      <td>A035</td>\n",
       "      <td>0.013242</td>\n",
       "    </tr>\n",
       "    <tr>\n",
       "      <th>7</th>\n",
       "      <td>A041</td>\n",
       "      <td>0.012975</td>\n",
       "    </tr>\n",
       "    <tr>\n",
       "      <th>2</th>\n",
       "      <td>A032</td>\n",
       "      <td>0.012634</td>\n",
       "    </tr>\n",
       "    <tr>\n",
       "      <th>3</th>\n",
       "      <td>A034</td>\n",
       "      <td>0.010834</td>\n",
       "    </tr>\n",
       "  </tbody>\n",
       "</table>\n",
       "</div>"
      ],
      "text/plain": [
       "   feature_names  feature_importance\n",
       "41          S020            0.052281\n",
       "8           A170            0.041690\n",
       "14          F121            0.037537\n",
       "39          F028            0.035727\n",
       "9           F063            0.034869\n",
       "13          F120            0.031207\n",
       "12          F118            0.028921\n",
       "40          X045            0.028909\n",
       "23          D059            0.026469\n",
       "18          A004            0.026321\n",
       "27          E023            0.026025\n",
       "31       E069_05            0.025772\n",
       "38       E069_15            0.025766\n",
       "36       E069_13            0.025500\n",
       "10          F116            0.025416\n",
       "37       E069_14            0.025364\n",
       "24          D060            0.025196\n",
       "28       E069_01            0.024956\n",
       "20          A006            0.024435\n",
       "34       E069_11            0.024426\n",
       "29       E069_02            0.024414\n",
       "32       E069_06            0.024345\n",
       "35       E069_12            0.023778\n",
       "22          D054            0.023543\n",
       "33       E069_10            0.022772\n",
       "30       E069_04            0.022588\n",
       "11          F117            0.022449\n",
       "15          F123            0.021594\n",
       "21          A008            0.021001\n",
       "16         X025R            0.020349\n",
       "25          E015            0.019133\n",
       "19          A005            0.017857\n",
       "17     X047R_WVS            0.017554\n",
       "0           A029            0.016393\n",
       "26          E016            0.015472\n",
       "6           A040            0.013618\n",
       "5           A039            0.013372\n",
       "1           A030            0.013293\n",
       "4           A035            0.013242\n",
       "7           A041            0.012975\n",
       "2           A032            0.012634\n",
       "3           A034            0.010834"
      ]
     },
     "execution_count": 147,
     "metadata": {},
     "output_type": "execute_result"
    }
   ],
   "source": [
    "importances = pd.DataFrame({'feature_names': X.columns,\n",
    "              'feature_importance': rc.feature_importances_})\n",
    "importances.sort_values(by = 'feature_importance', ascending = False, inplace = True)\n",
    "importances"
   ]
  },
  {
   "cell_type": "code",
   "execution_count": 148,
   "id": "38374a18-7599-4589-8655-1c6b98b52aca",
   "metadata": {},
   "outputs": [
    {
     "data": {
      "image/png": "[encoded data removed]",
      "text/plain": [
       "<Figure size 1200x1000 with 1 Axes>"
      ]
     },
     "metadata": {},
     "output_type": "display_data"
    }
   ],
   "source": [
    "plt.figure(figsize=(12, 10))\n",
    "\n",
    "imp = importances.head(10).sort_values(by='feature_importance', ascending=True)\n",
    "\n",
    "plt.barh(imp['feature_names'],\n",
    "         imp['feature_importance'],\n",
    "         color=['#933e3e', '#933e3e', '#933e3e', '#933e3e', '#933e3e', '#933e3e', '#933e3e', '#933e3e', '#933e3e', '#20124d'],\n",
    "         edgecolor='black',\n",
    "         height=.5)\n",
    "\n",
    "plt.gca().set_facecolor('#ede6de')\n",
    "\n",
    "plt.xlabel('Feature Importance')\n",
    "plt.ylabel('Feature Names')\n",
    "\n",
    "plt.title('Top 10 Feature Importances');"
   ]
  },
  {
   "cell_type": "code",
   "execution_count": 150,
   "id": "024cc0be-65a2-45c6-85b5-34583428e3be",
   "metadata": {},
   "outputs": [],
   "source": [
    "with open('../models/rf.pickle', 'wb') as f:\n",
    "    pickle.dump(rc, f, protocol=pickle.HIGHEST_PROTOCOL)"
   ]
  },
  {
   "cell_type": "markdown",
   "id": "7e967f00-37bf-472e-8cff-a140e296aeab",
   "metadata": {},
   "source": [
    "### Dense Neural Network"
   ]
  },
  {
   "cell_type": "code",
   "execution_count": 55,
   "id": "808a561f-eb94-4a4b-9db6-db8b4dffc453",
   "metadata": {},
   "outputs": [],
   "source": [
    "es = EarlyStopping(monitor='val_loss', patience=5, verbose=1)"
   ]
  },
  {
   "cell_type": "code",
   "execution_count": 103,
   "id": "d343ddb1-fe2a-4d85-86ba-64754f5e14c8",
   "metadata": {},
   "outputs": [
    {
     "name": "stdout",
     "output_type": "stream",
     "text": [
      "Epoch 1/100\n",
      "4043/4043 [==============================] - 293s 72ms/step - loss: 0.6011 - acc: 0.6692 - val_loss: 0.5666 - val_acc: 0.6955\n",
      "Epoch 2/100\n",
      "4043/4043 [==============================] - 328s 81ms/step - loss: 0.5775 - acc: 0.6899 - val_loss: 0.5683 - val_acc: 0.6932\n",
      "Epoch 3/100\n",
      "4043/4043 [==============================] - 333s 82ms/step - loss: 0.5720 - acc: 0.6953 - val_loss: 0.5574 - val_acc: 0.6986\n",
      "Epoch 4/100\n",
      "4043/4043 [==============================] - 331s 82ms/step - loss: 0.5676 - acc: 0.6982 - val_loss: 0.5552 - val_acc: 0.7029\n",
      "Epoch 5/100\n",
      "4043/4043 [==============================] - 333s 82ms/step - loss: 0.5641 - acc: 0.7007 - val_loss: 0.5544 - val_acc: 0.7031\n",
      "Epoch 6/100\n",
      "4043/4043 [==============================] - 333s 82ms/step - loss: 0.5614 - acc: 0.7032 - val_loss: 0.5523 - val_acc: 0.7041\n",
      "Epoch 7/100\n",
      "4043/4043 [==============================] - 325s 80ms/step - loss: 0.5591 - acc: 0.7036 - val_loss: 0.5507 - val_acc: 0.7065\n",
      "Epoch 8/100\n",
      "4043/4043 [==============================] - 331s 82ms/step - loss: 0.5566 - acc: 0.7058 - val_loss: 0.5540 - val_acc: 0.7047\n",
      "Epoch 9/100\n",
      "4043/4043 [==============================] - 336s 83ms/step - loss: 0.5548 - acc: 0.7069 - val_loss: 0.5547 - val_acc: 0.7048\n",
      "Epoch 10/100\n",
      "4043/4043 [==============================] - 334s 83ms/step - loss: 0.5517 - acc: 0.7089 - val_loss: 0.5477 - val_acc: 0.7082\n",
      "Epoch 11/100\n",
      "4043/4043 [==============================] - 322s 80ms/step - loss: 0.5506 - acc: 0.7091 - val_loss: 0.5483 - val_acc: 0.7096\n",
      "Epoch 12/100\n",
      "4043/4043 [==============================] - 313s 77ms/step - loss: 0.5495 - acc: 0.7094 - val_loss: 0.5472 - val_acc: 0.7095\n",
      "Epoch 13/100\n",
      "4043/4043 [==============================] - 328s 81ms/step - loss: 0.5481 - acc: 0.7111 - val_loss: 0.5469 - val_acc: 0.7085\n",
      "Epoch 14/100\n",
      "4043/4043 [==============================] - 321s 80ms/step - loss: 0.5465 - acc: 0.7124 - val_loss: 0.5498 - val_acc: 0.7073\n",
      "Epoch 15/100\n",
      "4043/4043 [==============================] - 323s 80ms/step - loss: 0.5456 - acc: 0.7129 - val_loss: 0.5463 - val_acc: 0.7100\n",
      "Epoch 16/100\n",
      "4043/4043 [==============================] - 323s 80ms/step - loss: 0.5438 - acc: 0.7145 - val_loss: 0.5449 - val_acc: 0.7118\n",
      "Epoch 17/100\n",
      "4043/4043 [==============================] - 328s 81ms/step - loss: 0.5431 - acc: 0.7147 - val_loss: 0.5458 - val_acc: 0.7104\n",
      "Epoch 18/100\n",
      "4043/4043 [==============================] - 326s 81ms/step - loss: 0.5417 - acc: 0.7163 - val_loss: 0.5448 - val_acc: 0.7115\n",
      "Epoch 19/100\n",
      "4043/4043 [==============================] - 322s 80ms/step - loss: 0.5405 - acc: 0.7179 - val_loss: 0.5446 - val_acc: 0.7100\n",
      "Epoch 20/100\n",
      "4043/4043 [==============================] - 322s 80ms/step - loss: 0.5384 - acc: 0.7195 - val_loss: 0.5454 - val_acc: 0.7101\n",
      "Epoch 21/100\n",
      "4043/4043 [==============================] - 318s 79ms/step - loss: 0.5373 - acc: 0.7203 - val_loss: 0.5445 - val_acc: 0.7110\n",
      "Epoch 22/100\n",
      "4043/4043 [==============================] - 314s 78ms/step - loss: 0.5364 - acc: 0.7204 - val_loss: 0.5440 - val_acc: 0.7109\n",
      "Epoch 23/100\n",
      "4043/4043 [==============================] - 291s 72ms/step - loss: 0.5353 - acc: 0.7215 - val_loss: 0.5435 - val_acc: 0.7109\n",
      "Epoch 24/100\n",
      "4043/4043 [==============================] - 290s 72ms/step - loss: 0.5335 - acc: 0.7231 - val_loss: 0.5434 - val_acc: 0.7124\n",
      "Epoch 25/100\n",
      "4043/4043 [==============================] - 290s 72ms/step - loss: 0.5322 - acc: 0.7223 - val_loss: 0.5460 - val_acc: 0.7109\n",
      "Epoch 26/100\n",
      "4043/4043 [==============================] - 320s 79ms/step - loss: 0.5303 - acc: 0.7251 - val_loss: 0.5438 - val_acc: 0.7114\n",
      "Epoch 27/100\n",
      "4043/4043 [==============================] - 330s 82ms/step - loss: 0.5301 - acc: 0.7257 - val_loss: 0.5441 - val_acc: 0.7127\n",
      "Epoch 28/100\n",
      "4043/4043 [==============================] - 335s 83ms/step - loss: 0.5280 - acc: 0.7274 - val_loss: 0.5451 - val_acc: 0.7130\n",
      "Epoch 29/100\n",
      "4043/4043 [==============================] - 324s 80ms/step - loss: 0.5270 - acc: 0.7282 - val_loss: 0.5447 - val_acc: 0.7119\n",
      "Epoch 29: early stopping\n"
     ]
    }
   ],
   "source": [
    "model = Sequential()\n",
    "#model.add(BatchNormalization())\n",
    "model.add(Dense(2048, activation='relu', input_dim=Z_train.shape[1]))\n",
    "model.add(Dropout(0.5))\n",
    "#model.add(BatchNormalization())\n",
    "model.add(Dense(2048, activation='relu'))\n",
    "model.add(Dropout(0.5))\n",
    "#model.add(BatchNormalization())\n",
    "model.add(Dense(2048, activation='relu'))\n",
    "model.add(Dropout(0.5))\n",
    "model.add(BatchNormalization())\n",
    "model.add(Dense(1, activation='sigmoid'))\n",
    "           \n",
    "model.compile(\n",
    "    loss = 'bce',\n",
    "    optimizer = 'adam',\n",
    "    metrics = ['acc']\n",
    ")\n",
    "           \n",
    "history = model.fit(\n",
    "    Z_train,\n",
    "    y_train,\n",
    "    validation_data=(Z_test, y_test),\n",
    "    epochs=100,\n",
    "    batch_size=64,\n",
    "    callbacks=[es]\n",
    ")"
   ]
  },
  {
   "cell_type": "code",
   "execution_count": 58,
   "id": "298580e1-b001-4e80-82d2-4c0bb3468942",
   "metadata": {},
   "outputs": [
    {
     "name": "stdout",
     "output_type": "stream",
     "text": [
      "Model: \"sequential_1\"\n",
      "_________________________________________________________________\n",
      " Layer (type)                Output Shape              Param #   \n",
      "=================================================================\n",
      " batch_normalization_4 (Batc  (None, 42)               168       \n",
      " hNormalization)                                                 \n",
      "                                                                 \n",
      " dense_4 (Dense)             (None, 128)               5504      \n",
      "                                                                 \n",
      " dropout_3 (Dropout)         (None, 128)               0         \n",
      "                                                                 \n",
      " batch_normalization_5 (Batc  (None, 128)              512       \n",
      " hNormalization)                                                 \n",
      "                                                                 \n",
      " dense_5 (Dense)             (None, 128)               16512     \n",
      "                                                                 \n",
      " dropout_4 (Dropout)         (None, 128)               0         \n",
      "                                                                 \n",
      " batch_normalization_6 (Batc  (None, 128)              512       \n",
      " hNormalization)                                                 \n",
      "                                                                 \n",
      " dense_6 (Dense)             (None, 128)               16512     \n",
      "                                                                 \n",
      " dropout_5 (Dropout)         (None, 128)               0         \n",
      "                                                                 \n",
      " batch_normalization_7 (Batc  (None, 128)              512       \n",
      " hNormalization)                                                 \n",
      "                                                                 \n",
      " dense_7 (Dense)             (None, 1)                 129       \n",
      "                                                                 \n",
      "=================================================================\n",
      "Total params: 40,361\n",
      "Trainable params: 39,509\n",
      "Non-trainable params: 852\n",
      "_________________________________________________________________\n"
     ]
    }
   ],
   "source": [
    "model.summary()"
   ]
  },
  {
   "cell_type": "code",
   "execution_count": 94,
   "id": "709dae61-d9b4-4363-9479-64198b4523a8",
   "metadata": {},
   "outputs": [
    {
     "name": "stdout",
     "output_type": "stream",
     "text": [
      "899/899 [==============================] - 3s 4ms/step - loss: 0.5441 - acc: 0.7129\n"
     ]
    },
    {
     "data": {
      "text/plain": [
       "[0.5440806746482849, 0.7128695845603943]"
      ]
     },
     "execution_count": 94,
     "metadata": {},
     "output_type": "execute_result"
    }
   ],
   "source": [
    "model.evaluate(Z_test, y_test)"
   ]
  },
  {
   "cell_type": "code",
   "execution_count": 95,
   "id": "0f41795c-10a0-4407-956c-60cb64ba30ab",
   "metadata": {},
   "outputs": [
    {
     "data": {
      "image/png": "[encoded data removed]",
      "text/plain": [
       "<Figure size 640x480 with 1 Axes>"
      ]
     },
     "metadata": {},
     "output_type": "display_data"
    }
   ],
   "source": [
    "plt.plot(history.history['loss'], c='navy', label='Training Loss')\n",
    "plt.plot(history.history['val_loss'], c='orange', label='Val Loss')\n",
    "plt.legend();"
   ]
  },
  {
   "cell_type": "code",
   "execution_count": 96,
   "id": "d927a0df-41a8-45ce-abe8-29f951cc3a60",
   "metadata": {},
   "outputs": [
    {
     "data": {
      "image/png": "[encoded data removed]",
      "text/plain": [
       "<Figure size 640x480 with 1 Axes>"
      ]
     },
     "metadata": {},
     "output_type": "display_data"
    }
   ],
   "source": [
    "plt.plot(history.history['acc'], c='navy', label='Training Accuracy')\n",
    "plt.plot(history.history['val_acc'], c='orange', label='Val Accuracy')\n",
    "plt.legend();"
   ]
  },
  {
   "cell_type": "code",
   "execution_count": 99,
   "id": "1bdf741b-3309-425a-aca4-2bc39fc59210",
   "metadata": {},
   "outputs": [
    {
     "name": "stdout",
     "output_type": "stream",
     "text": [
      "8086/8086 [==============================] - 30s 4ms/step\n"
     ]
    }
   ],
   "source": [
    "y_train_preds = np.round(model.predict(Z_train))"
   ]
  },
  {
   "cell_type": "code",
   "execution_count": 100,
   "id": "36eb67cf-4d79-4a22-bf7b-3b16b376f465",
   "metadata": {},
   "outputs": [
    {
     "data": {
      "image/png": "[encoded data removed]",
      "text/plain": [
       "<Figure size 640x480 with 2 Axes>"
      ]
     },
     "metadata": {},
     "output_type": "display_data"
    }
   ],
   "source": [
    "metrics.ConfusionMatrixDisplay.from_predictions(y_train, y_train_preds,cmap = 'Reds')\n",
    "plt.title(\"Confusion Matrix\");"
   ]
  },
  {
   "cell_type": "code",
   "execution_count": 97,
   "id": "cda411d3-df10-42d4-a837-5601d28bd80a",
   "metadata": {},
   "outputs": [
    {
     "name": "stdout",
     "output_type": "stream",
     "text": [
      "899/899 [==============================] - 3s 4ms/step\n"
     ]
    },
    {
     "data": {
      "text/plain": [
       "array([[1.],\n",
       "       [0.],\n",
       "       [0.],\n",
       "       ...,\n",
       "       [0.],\n",
       "       [1.],\n",
       "       [0.]], dtype=float32)"
      ]
     },
     "execution_count": 97,
     "metadata": {},
     "output_type": "execute_result"
    }
   ],
   "source": [
    "y_preds = np.round(model.predict(Z_test))\n",
    "y_preds"
   ]
  },
  {
   "cell_type": "code",
   "execution_count": 109,
   "id": "b41f4e49-4bf2-46ac-9611-8d1be45cf65c",
   "metadata": {},
   "outputs": [
    {
     "data": {
      "image/png": "[encoded data removed]",
      "text/plain": [
       "<Figure size 640x480 with 2 Axes>"
      ]
     },
     "metadata": {},
     "output_type": "display_data"
    }
   ],
   "source": [
    "metrics.ConfusionMatrixDisplay.from_predictions(y_test, y_preds, cmap = 'Reds')\n",
    "plt.title(\"Confusion Matrix for Dense Neural Network\");"
   ]
  },
  {
   "cell_type": "code",
   "execution_count": 151,
   "id": "d16b478e-082c-4b96-9f6f-720a9efe8b9b",
   "metadata": {},
   "outputs": [
    {
     "name": "stdout",
     "output_type": "stream",
     "text": [
      "Keras weights file (<HDF5 file \"variables.h5\" (mode r+)>) saving:\n",
      "...layers\\batch_normalization\n",
      "......vars\n",
      ".........0\n",
      ".........1\n",
      ".........2\n",
      ".........3\n",
      "...layers\\dense\n",
      "......vars\n",
      ".........0\n",
      ".........1\n",
      "...layers\\dense_1\n",
      "......vars\n",
      ".........0\n",
      ".........1\n",
      "...layers\\dense_2\n",
      "......vars\n",
      ".........0\n",
      ".........1\n",
      "...layers\\dense_3\n",
      "......vars\n",
      ".........0\n",
      ".........1\n",
      "...layers\\dropout\n",
      "......vars\n",
      "...layers\\dropout_1\n",
      "......vars\n",
      "...layers\\dropout_2\n",
      "......vars\n",
      "...metrics\\mean\n",
      "......vars\n",
      ".........0\n",
      ".........1\n",
      "...metrics\\mean_metric_wrapper\n",
      "......vars\n",
      ".........0\n",
      ".........1\n",
      "...optimizer\n",
      "......vars\n",
      ".........0\n",
      ".........1\n",
      ".........10\n",
      ".........11\n",
      ".........12\n",
      ".........13\n",
      ".........14\n",
      ".........15\n",
      ".........16\n",
      ".........17\n",
      ".........18\n",
      ".........19\n",
      ".........2\n",
      ".........20\n",
      ".........3\n",
      ".........4\n",
      ".........5\n",
      ".........6\n",
      ".........7\n",
      ".........8\n",
      ".........9\n",
      "...vars\n",
      "Keras model archive saving:\n",
      "File Name                                             Modified             Size\n",
      "config.json                                    2023-04-17 11:52:13         3248\n",
      "metadata.json                                  2023-04-17 11:52:13           64\n",
      "variables.h5                                   2023-04-17 11:52:14    101897496\n"
     ]
    }
   ],
   "source": [
    "with open('../models/dnn.pickle', 'wb') as f:\n",
    "    pickle.dump(model, f, protocol=pickle.HIGHEST_PROTOCOL)"
   ]
  },
  {
   "cell_type": "code",
   "execution_count": 152,
   "id": "3f90f77a-0a3f-47c9-a516-ea7b25e76458",
   "metadata": {},
   "outputs": [
    {
     "name": "stdout",
     "output_type": "stream",
     "text": [
      "Keras weights file (<HDF5 file \"variables.h5\" (mode r+)>) saving:\n",
      "...layers\\batch_normalization\n",
      "......vars\n",
      ".........0\n",
      ".........1\n",
      ".........2\n",
      ".........3\n",
      "...layers\\dense\n",
      "......vars\n",
      ".........0\n",
      ".........1\n",
      "...layers\\dense_1\n",
      "......vars\n",
      ".........0\n",
      ".........1\n",
      "...layers\\dense_2\n",
      "......vars\n",
      ".........0\n",
      ".........1\n",
      "...layers\\dense_3\n",
      "......vars\n",
      ".........0\n",
      ".........1\n",
      "...layers\\dropout\n",
      "......vars\n",
      "...layers\\dropout_1\n",
      "......vars\n",
      "...layers\\dropout_2\n",
      "......vars\n",
      "...metrics\\mean\n",
      "......vars\n",
      ".........0\n",
      ".........1\n",
      "...metrics\\mean_metric_wrapper\n",
      "......vars\n",
      ".........0\n",
      ".........1\n",
      "...optimizer\n",
      "......vars\n",
      ".........0\n",
      ".........1\n",
      ".........10\n",
      ".........11\n",
      ".........12\n",
      ".........13\n",
      ".........14\n",
      ".........15\n",
      ".........16\n",
      ".........17\n",
      ".........18\n",
      ".........19\n",
      ".........2\n",
      ".........20\n",
      ".........3\n",
      ".........4\n",
      ".........5\n",
      ".........6\n",
      ".........7\n",
      ".........8\n",
      ".........9\n",
      "...vars\n",
      "Keras model archive saving:\n",
      "File Name                                             Modified             Size\n",
      "config.json                                    2023-04-17 12:02:35         3248\n",
      "metadata.json                                  2023-04-17 12:02:35           64\n",
      "variables.h5                                   2023-04-17 12:02:35    101897496\n"
     ]
    }
   ],
   "source": [
    "with open('../models/dnn_history.pickle', 'wb') as f:\n",
    "    pickle.dump(history, f, protocol=pickle.HIGHEST_PROTOCOL)"
   ]
  },
  {
   "cell_type": "code",
   "execution_count": 154,
   "id": "02a08927-7576-4fa9-99b0-2139576e1b6a",
   "metadata": {},
   "outputs": [],
   "source": [
    "nonas.to_csv('../data/wvs_preprocessed.csv', index=False)"
   ]
  },
  {
   "cell_type": "code",
   "execution_count": 155,
   "id": "de81b587-e57f-49e8-a459-ef49bf38649e",
   "metadata": {},
   "outputs": [],
   "source": [
    "with open('../pickles/y_test.pickle', 'wb') as f:\n",
    "    pickle.dump(y_test, f, protocol=pickle.HIGHEST_PROTOCOL)"
   ]
  },
  {
   "cell_type": "code",
   "execution_count": 156,
   "id": "ff115a10-4875-42d4-82f7-b90139a55d1b",
   "metadata": {},
   "outputs": [],
   "source": [
    "with open('../pickles/Z_test.pickle', 'wb') as f:\n",
    "    pickle.dump(Z_test, f, protocol=pickle.HIGHEST_PROTOCOL)"
   ]
  }
 ],
 "metadata": {
  "kernelspec": {
   "display_name": "Python 3 (ipykernel)",
   "language": "python",
   "name": "python3"
  },
  "language_info": {
   "codemirror_mode": {
    "name": "ipython",
    "version": 3
   },
   "file_extension": ".py",
   "mimetype": "text/x-python",
   "name": "python",
   "nbconvert_exporter": "python",
   "pygments_lexer": "ipython3",
   "version": "3.9.13"
  }
 },
 "nbformat": 4,
 "nbformat_minor": 5
}
