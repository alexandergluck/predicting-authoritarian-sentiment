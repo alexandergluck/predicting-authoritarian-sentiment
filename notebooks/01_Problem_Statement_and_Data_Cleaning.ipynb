{
 "cells": [
  {
   "cell_type": "code",
   "execution_count": 1,
   "id": "3f06c3d5-37cf-4e9e-893e-e4d4672aa6e4",
   "metadata": {},
   "outputs": [],
   "source": [
    "import numpy as np\n",
    "import pandas as pd\n",
    "import matplotlib.pyplot as plt\n",
    "import seaborn as sns"
   ]
  },
  {
   "cell_type": "code",
   "execution_count": 2,
   "id": "09ccf1e1-7e2f-4cbc-bd1a-2dcd55c5d636",
   "metadata": {},
   "outputs": [],
   "source": [
    "wvs = pd.read_csv('../raw_data/WVS_TimeSeries_4_0.csv')"
   ]
  },
  {
   "cell_type": "markdown",
   "id": "bf871342-c290-4235-9fae-aecf49843d5e",
   "metadata": {
    "tags": []
   },
   "source": [
    "## Problem Statement ##\n",
    "\n",
    "The rise of authoritarianism is a growing concern among democratic societies worldwide. To gain and maintain power, authoritarian leaders require a base of followers who support their ideology and policies. In this project, I aim to predict support for authoritarianism using data from the World Values Survey dataset. This dataset includes responses from individuals in various countries regarding their attitudes towards governance, society, and culture. By analyzing the WVS dataset using machine learning models, I seek to identify factors that contribute to support for authoritarianism, such as economic insecurity, cultural conservatism, and distrust of institutions. The results of this project could provide insights into the underlying causes of authoritarianism and inform strategies to prevent its spread in democratic societies."
   ]
  },
  {
   "cell_type": "code",
   "execution_count": 3,
   "id": "28ccf8eb-38e1-40fe-87a8-8209d406e98f",
   "metadata": {},
   "outputs": [
    {
     "data": {
      "text/html": [
       "<div>\n",
       "<style scoped>\n",
       "    .dataframe tbody tr th:only-of-type {\n",
       "        vertical-align: middle;\n",
       "    }\n",
       "\n",
       "    .dataframe tbody tr th {\n",
       "        vertical-align: top;\n",
       "    }\n",
       "\n",
       "    .dataframe thead th {\n",
       "        text-align: right;\n",
       "    }\n",
       "</style>\n",
       "<table border=\"1\" class=\"dataframe\">\n",
       "  <thead>\n",
       "    <tr style=\"text-align: right;\">\n",
       "      <th></th>\n",
       "      <th>version</th>\n",
       "      <th>doi</th>\n",
       "      <th>S002VS</th>\n",
       "      <th>S003</th>\n",
       "      <th>COUNTRY_ALPHA</th>\n",
       "      <th>COW_NUM</th>\n",
       "      <th>COW_ALPHA</th>\n",
       "      <th>S004</th>\n",
       "      <th>S006</th>\n",
       "      <th>S007</th>\n",
       "      <th>...</th>\n",
       "      <th>Y023A</th>\n",
       "      <th>Y023B</th>\n",
       "      <th>Y023C</th>\n",
       "      <th>Y024A</th>\n",
       "      <th>Y024B</th>\n",
       "      <th>Y024C</th>\n",
       "      <th>survself</th>\n",
       "      <th>tradrat5</th>\n",
       "      <th>TradAgg</th>\n",
       "      <th>SurvSAgg</th>\n",
       "    </tr>\n",
       "  </thead>\n",
       "  <tbody>\n",
       "    <tr>\n",
       "      <th>0</th>\n",
       "      <td>4-0-0</td>\n",
       "      <td>doi:10.14281/18241.22</td>\n",
       "      <td>4</td>\n",
       "      <td>8</td>\n",
       "      <td>ALB</td>\n",
       "      <td>339</td>\n",
       "      <td>ALB</td>\n",
       "      <td>-4</td>\n",
       "      <td>1</td>\n",
       "      <td>80420001</td>\n",
       "      <td>...</td>\n",
       "      <td>NaN</td>\n",
       "      <td>NaN</td>\n",
       "      <td>0.000000</td>\n",
       "      <td>NaN</td>\n",
       "      <td>NaN</td>\n",
       "      <td>NaN</td>\n",
       "      <td>NaN</td>\n",
       "      <td>NaN</td>\n",
       "      <td>NaN</td>\n",
       "      <td>NaN</td>\n",
       "    </tr>\n",
       "    <tr>\n",
       "      <th>1</th>\n",
       "      <td>4-0-0</td>\n",
       "      <td>doi:10.14281/18241.22</td>\n",
       "      <td>4</td>\n",
       "      <td>8</td>\n",
       "      <td>ALB</td>\n",
       "      <td>339</td>\n",
       "      <td>ALB</td>\n",
       "      <td>-4</td>\n",
       "      <td>2</td>\n",
       "      <td>80420002</td>\n",
       "      <td>...</td>\n",
       "      <td>0.000000</td>\n",
       "      <td>0.0</td>\n",
       "      <td>0.000000</td>\n",
       "      <td>NaN</td>\n",
       "      <td>NaN</td>\n",
       "      <td>NaN</td>\n",
       "      <td>NaN</td>\n",
       "      <td>NaN</td>\n",
       "      <td>NaN</td>\n",
       "      <td>NaN</td>\n",
       "    </tr>\n",
       "    <tr>\n",
       "      <th>2</th>\n",
       "      <td>4-0-0</td>\n",
       "      <td>doi:10.14281/18241.22</td>\n",
       "      <td>4</td>\n",
       "      <td>8</td>\n",
       "      <td>ALB</td>\n",
       "      <td>339</td>\n",
       "      <td>ALB</td>\n",
       "      <td>-4</td>\n",
       "      <td>3</td>\n",
       "      <td>80420003</td>\n",
       "      <td>...</td>\n",
       "      <td>NaN</td>\n",
       "      <td>0.0</td>\n",
       "      <td>0.000000</td>\n",
       "      <td>NaN</td>\n",
       "      <td>NaN</td>\n",
       "      <td>NaN</td>\n",
       "      <td>NaN</td>\n",
       "      <td>NaN</td>\n",
       "      <td>NaN</td>\n",
       "      <td>NaN</td>\n",
       "    </tr>\n",
       "    <tr>\n",
       "      <th>3</th>\n",
       "      <td>4-0-0</td>\n",
       "      <td>doi:10.14281/18241.22</td>\n",
       "      <td>4</td>\n",
       "      <td>8</td>\n",
       "      <td>ALB</td>\n",
       "      <td>339</td>\n",
       "      <td>ALB</td>\n",
       "      <td>-4</td>\n",
       "      <td>4</td>\n",
       "      <td>80420004</td>\n",
       "      <td>...</td>\n",
       "      <td>0.333333</td>\n",
       "      <td>1.0</td>\n",
       "      <td>0.555556</td>\n",
       "      <td>NaN</td>\n",
       "      <td>NaN</td>\n",
       "      <td>NaN</td>\n",
       "      <td>NaN</td>\n",
       "      <td>NaN</td>\n",
       "      <td>NaN</td>\n",
       "      <td>NaN</td>\n",
       "    </tr>\n",
       "    <tr>\n",
       "      <th>4</th>\n",
       "      <td>4-0-0</td>\n",
       "      <td>doi:10.14281/18241.22</td>\n",
       "      <td>4</td>\n",
       "      <td>8</td>\n",
       "      <td>ALB</td>\n",
       "      <td>339</td>\n",
       "      <td>ALB</td>\n",
       "      <td>-4</td>\n",
       "      <td>5</td>\n",
       "      <td>80420005</td>\n",
       "      <td>...</td>\n",
       "      <td>0.000000</td>\n",
       "      <td>0.0</td>\n",
       "      <td>0.222222</td>\n",
       "      <td>NaN</td>\n",
       "      <td>NaN</td>\n",
       "      <td>NaN</td>\n",
       "      <td>NaN</td>\n",
       "      <td>NaN</td>\n",
       "      <td>NaN</td>\n",
       "      <td>NaN</td>\n",
       "    </tr>\n",
       "  </tbody>\n",
       "</table>\n",
       "<p>5 rows × 1045 columns</p>\n",
       "</div>"
      ],
      "text/plain": [
       "  version                    doi  S002VS  S003 COUNTRY_ALPHA  COW_NUM  \\\n",
       "0   4-0-0  doi:10.14281/18241.22       4     8           ALB      339   \n",
       "1   4-0-0  doi:10.14281/18241.22       4     8           ALB      339   \n",
       "2   4-0-0  doi:10.14281/18241.22       4     8           ALB      339   \n",
       "3   4-0-0  doi:10.14281/18241.22       4     8           ALB      339   \n",
       "4   4-0-0  doi:10.14281/18241.22       4     8           ALB      339   \n",
       "\n",
       "  COW_ALPHA  S004  S006      S007  ...     Y023A  Y023B     Y023C  Y024A  \\\n",
       "0       ALB    -4     1  80420001  ...       NaN    NaN  0.000000    NaN   \n",
       "1       ALB    -4     2  80420002  ...  0.000000    0.0  0.000000    NaN   \n",
       "2       ALB    -4     3  80420003  ...       NaN    0.0  0.000000    NaN   \n",
       "3       ALB    -4     4  80420004  ...  0.333333    1.0  0.555556    NaN   \n",
       "4       ALB    -4     5  80420005  ...  0.000000    0.0  0.222222    NaN   \n",
       "\n",
       "   Y024B  Y024C  survself  tradrat5  TradAgg  SurvSAgg  \n",
       "0    NaN    NaN       NaN       NaN      NaN       NaN  \n",
       "1    NaN    NaN       NaN       NaN      NaN       NaN  \n",
       "2    NaN    NaN       NaN       NaN      NaN       NaN  \n",
       "3    NaN    NaN       NaN       NaN      NaN       NaN  \n",
       "4    NaN    NaN       NaN       NaN      NaN       NaN  \n",
       "\n",
       "[5 rows x 1045 columns]"
      ]
     },
     "execution_count": 3,
     "metadata": {},
     "output_type": "execute_result"
    }
   ],
   "source": [
    "wvs.head()"
   ]
  },
  {
   "cell_type": "code",
   "execution_count": 4,
   "id": "a77f3d4c-09b6-4646-a711-ebf567ce22ac",
   "metadata": {},
   "outputs": [
    {
     "data": {
      "text/plain": [
       "(450869, 1045)"
      ]
     },
     "execution_count": 4,
     "metadata": {},
     "output_type": "execute_result"
    }
   ],
   "source": [
    "wvs.shape"
   ]
  },
  {
   "cell_type": "code",
   "execution_count": 5,
   "id": "9dbe65af-9f67-42e7-9ed4-e475a2ebdbd5",
   "metadata": {},
   "outputs": [
    {
     "data": {
      "text/plain": [
       "ZAF    16786\n",
       "USA    12983\n",
       "IND    12621\n",
       "COL    12082\n",
       "MEX    11714\n",
       "       ...  \n",
       "FRA     1001\n",
       "PSE     1000\n",
       "YEM     1000\n",
       "NIR      447\n",
       "DOM      417\n",
       "Name: COUNTRY_ALPHA, Length: 108, dtype: int64"
      ]
     },
     "execution_count": 5,
     "metadata": {},
     "output_type": "execute_result"
    }
   ],
   "source": [
    "wvs.COUNTRY_ALPHA.value_counts()"
   ]
  },
  {
   "cell_type": "code",
   "execution_count": 6,
   "id": "90861ced-415c-4a99-b276-e23c088f042a",
   "metadata": {},
   "outputs": [
    {
     "data": {
      "text/plain": [
       "Index(['version', 'doi', 'S002VS', 'S003', 'COUNTRY_ALPHA', 'COW_NUM',\n",
       "       'COW_ALPHA', 'S004', 'S006', 'S007',\n",
       "       ...\n",
       "       'Y023A', 'Y023B', 'Y023C', 'Y024A', 'Y024B', 'Y024C', 'survself',\n",
       "       'tradrat5', 'TradAgg', 'SurvSAgg'],\n",
       "      dtype='object', length=1045)"
      ]
     },
     "execution_count": 6,
     "metadata": {},
     "output_type": "execute_result"
    }
   ],
   "source": [
    "wvs.columns"
   ]
  },
  {
   "cell_type": "markdown",
   "id": "b842d782-781b-461b-a958-9ddba264729b",
   "metadata": {},
   "source": [
    "There are a number of pre-engineered aggregate variables at the end of the dataset. Each of these has the prefix 'Y'. I'm not inclined to use them in my models because the literature on which questions they aggregate, and the methodology for doing so, isn't great. There also seems to be a fair number of null values. As I searched through these, I was somewhat interested in variable **Y011A**, which is described in the data dictionary as \"AUTHORITY\". After some further digging, however, I discovered that this statistic is meant to measure the respondents defiance of authority, rather than inclination towards authoritarian values. "
   ]
  },
  {
   "cell_type": "code",
   "execution_count": 7,
   "id": "740631e1-8374-4f65-a945-1ac017f16244",
   "metadata": {},
   "outputs": [
    {
     "data": {
      "image/png": "[encoded data removed]",
      "text/plain": [
       "<Figure size 640x480 with 1 Axes>"
      ]
     },
     "metadata": {},
     "output_type": "display_data"
    }
   ],
   "source": [
    "plt.hist(wvs['Y011A'], bins=20);"
   ]
  },
  {
   "cell_type": "code",
   "execution_count": 8,
   "id": "0205b241-fcf4-452b-b268-4d3c434192a9",
   "metadata": {},
   "outputs": [
    {
     "data": {
      "text/plain": [
       "23714"
      ]
     },
     "execution_count": 8,
     "metadata": {},
     "output_type": "execute_result"
    }
   ],
   "source": [
    "wvs.Y011A.isna().sum()"
   ]
  },
  {
   "cell_type": "markdown",
   "id": "cf8b99f3-acb3-4d0f-a355-055d5d487d8a",
   "metadata": {},
   "source": [
    "The data for the survey has thus far been collected in seven waves, with each wave taking a few years to complete. The questions asked and the countries participating have changed and expanded over the course of each successive wave. Variable **S002VS** indicates the wave during which each interview was conducted:"
   ]
  },
  {
   "cell_type": "code",
   "execution_count": 9,
   "id": "804ff627-3eca-4ef1-b5a3-6f02cff1a661",
   "metadata": {},
   "outputs": [
    {
     "data": {
      "text/plain": [
       "1    14840\n",
       "2    29174\n",
       "3    77818\n",
       "4    60045\n",
       "5    85149\n",
       "6    89565\n",
       "7    94278\n",
       "Name: S002VS, dtype: int64"
      ]
     },
     "execution_count": 9,
     "metadata": {},
     "output_type": "execute_result"
    }
   ],
   "source": [
    "wvs['S002VS'].value_counts(dropna=False).sort_index()"
   ]
  },
  {
   "cell_type": "markdown",
   "id": "a3b49c83-3056-4977-882a-dc0ef8c98d84",
   "metadata": {},
   "source": [
    "My initial plan was to create time series data by aggregating by year and country all the way back to the first wave, which started in 1981. One quick look at variable **S020**, which indicates the year in which each interview was conducted, shows why this won't be possible. There are big gaps in time between waves 1 and 2 (1985-1988), as well as between waves 2 and 3 (1992-1994).\n",
    "\n",
    "Luckily, this issue dissapates thereafter, with successive waves following wave 3 starting almost as soon as the previous wave completes. As a result, I should be able to create my time series data starting with the first year of wave 3 in 1995. Starting with wave 3 does have some additional benefits, as wave 3 marked a significant expansion in the scope of the survey both in terms of the questions asked and the countries included.  \n",
    "\n",
    "There is still a one year gap in 2015. Once I have the data in the shape I want it I'll consider various methods of interpolation in order to fill the gap"
   ]
  },
  {
   "cell_type": "code",
   "execution_count": 10,
   "id": "3ef8babb-f08e-4e18-b57f-0ec1e8d202f0",
   "metadata": {},
   "outputs": [
    {
     "data": {
      "text/plain": [
       "1981     8551\n",
       "1982     5284\n",
       "1984     1005\n",
       "1989     2338\n",
       "1990    23128\n",
       "1991     3708\n",
       "1995    16681\n",
       "1996    32321\n",
       "1997    14167\n",
       "1998    13395\n",
       "1999     4749\n",
       "2000    12991\n",
       "2001    32387\n",
       "2002     6302\n",
       "2003     2545\n",
       "2004     4279\n",
       "2005    17437\n",
       "2006    36513\n",
       "2007    22513\n",
       "2008     3051\n",
       "2009     3681\n",
       "2010     5702\n",
       "2011    25012\n",
       "2012    28896\n",
       "2013    17437\n",
       "2014    10522\n",
       "2016     1996\n",
       "2017     9722\n",
       "2018    40647\n",
       "2019     7007\n",
       "2020    21187\n",
       "2021     5918\n",
       "2022     9797\n",
       "Name: S020, dtype: int64"
      ]
     },
     "execution_count": 10,
     "metadata": {},
     "output_type": "execute_result"
    }
   ],
   "source": [
    "wvs['S020'].value_counts(sort=False).sort_index()"
   ]
  },
  {
   "cell_type": "markdown",
   "id": "27263545-5aa8-4bb3-9285-bd45c31e3df9",
   "metadata": {},
   "source": [
    "I'll start constructing the dataset for my time series model by removing interviews collected prior to 1995"
   ]
  },
  {
   "cell_type": "code",
   "execution_count": 11,
   "id": "189a4578-d80f-4fb7-8231-c03946b6e715",
   "metadata": {},
   "outputs": [
    {
     "data": {
      "text/plain": [
       "(406855, 1045)"
      ]
     },
     "execution_count": 11,
     "metadata": {},
     "output_type": "execute_result"
    }
   ],
   "source": [
    "wvs_ts = wvs[wvs['S020'] >= 1995].copy()\n",
    "wvs_ts.shape"
   ]
  },
  {
   "cell_type": "markdown",
   "id": "2c8190be-4806-47b2-90df-86c3938691ee",
   "metadata": {},
   "source": [
    "Here is a list of countries included in the data starting with wave 3"
   ]
  },
  {
   "cell_type": "code",
   "execution_count": 12,
   "id": "ffd02cd4-779c-4057-ac77-c85291603052",
   "metadata": {},
   "outputs": [
    {
     "data": {
      "text/plain": [
       "ALB     999\n",
       "ARG    1079\n",
       "ARM    2000\n",
       "AUS    2048\n",
       "AZE    2002\n",
       "BGD    1525\n",
       "BGR    1072\n",
       "BIH    1200\n",
       "BLR    2092\n",
       "BRA    1143\n",
       "CHE    1212\n",
       "CHL    1000\n",
       "CHN    1500\n",
       "COL    6025\n",
       "CZE    1147\n",
       "DEU    2026\n",
       "DOM     417\n",
       "ESP    1211\n",
       "EST    1021\n",
       "FIN     987\n",
       "GBR    1093\n",
       "GEO    2008\n",
       "HRV    1196\n",
       "HUN     650\n",
       "IND    2040\n",
       "JPN    1054\n",
       "KOR    1249\n",
       "LTU    1009\n",
       "LVA    1200\n",
       "MDA     984\n",
       "MEX    1510\n",
       "MKD     995\n",
       "MNE     240\n",
       "NGA    1996\n",
       "NOR    1127\n",
       "NZL    1201\n",
       "PAK     733\n",
       "PER    1211\n",
       "PHL    1200\n",
       "POL    1153\n",
       "PRI    1164\n",
       "ROU    1239\n",
       "RUS    2040\n",
       "SLV    1254\n",
       "SRB    1280\n",
       "SVK    1095\n",
       "SVN    1007\n",
       "SWE    1009\n",
       "TUR    1907\n",
       "TWN     780\n",
       "UKR    2811\n",
       "URY    1000\n",
       "USA    1542\n",
       "VEN    1200\n",
       "ZAF    2935\n",
       "Name: COUNTRY_ALPHA, dtype: int64"
      ]
     },
     "execution_count": 12,
     "metadata": {},
     "output_type": "execute_result"
    }
   ],
   "source": [
    "wvs_ts['COUNTRY_ALPHA'][wvs_ts['S002VS'] == 3].value_counts().sort_index()"
   ]
  },
  {
   "cell_type": "markdown",
   "id": "9ef20887-2aa8-4fda-88fb-33e7c8f7b8e3",
   "metadata": {},
   "source": [
    "## Sorting Countries Into Regions\n",
    "\n",
    "Unfortunately, I'm discovering that when breaking things down to the country level there are more gaps year by year, with most countries completing their interviews for each wave in a single year, and some countries not involved in every wave. In order to create a dataset I can use for time series I'll need to group the countries into **regions**, so that I have data for every year. "
   ]
  },
  {
   "cell_type": "code",
   "execution_count": 13,
   "id": "fd55b1f0-b11d-4e17-a11e-7063570aa0cb",
   "metadata": {},
   "outputs": [],
   "source": [
    "def waves_years(country_code):\n",
    "    country_df = wvs_ts[['COUNTRY_ALPHA', 'S002VS', 'S020']][wvs_ts['COUNTRY_ALPHA'] == country_code]\n",
    "    unique_values = country_df.drop_duplicates(subset = 'S020').sort_values(by='S020')\n",
    "    return unique_values"
   ]
  },
  {
   "cell_type": "code",
   "execution_count": 14,
   "id": "3244b4bb-539c-417f-ade1-1e4537d8e994",
   "metadata": {},
   "outputs": [
    {
     "data": {
      "text/html": [
       "<div>\n",
       "<style scoped>\n",
       "    .dataframe tbody tr th:only-of-type {\n",
       "        vertical-align: middle;\n",
       "    }\n",
       "\n",
       "    .dataframe tbody tr th {\n",
       "        vertical-align: top;\n",
       "    }\n",
       "\n",
       "    .dataframe thead th {\n",
       "        text-align: right;\n",
       "    }\n",
       "</style>\n",
       "<table border=\"1\" class=\"dataframe\">\n",
       "  <thead>\n",
       "    <tr style=\"text-align: right;\">\n",
       "      <th></th>\n",
       "      <th>COUNTRY_ALPHA</th>\n",
       "      <th>S002VS</th>\n",
       "      <th>S020</th>\n",
       "    </tr>\n",
       "  </thead>\n",
       "  <tbody>\n",
       "    <tr>\n",
       "      <th>303153</th>\n",
       "      <td>ROU</td>\n",
       "      <td>3</td>\n",
       "      <td>1998</td>\n",
       "    </tr>\n",
       "    <tr>\n",
       "      <th>299874</th>\n",
       "      <td>ROU</td>\n",
       "      <td>5</td>\n",
       "      <td>2005</td>\n",
       "    </tr>\n",
       "    <tr>\n",
       "      <th>301650</th>\n",
       "      <td>ROU</td>\n",
       "      <td>6</td>\n",
       "      <td>2012</td>\n",
       "    </tr>\n",
       "    <tr>\n",
       "      <th>304392</th>\n",
       "      <td>ROU</td>\n",
       "      <td>7</td>\n",
       "      <td>2018</td>\n",
       "    </tr>\n",
       "  </tbody>\n",
       "</table>\n",
       "</div>"
      ],
      "text/plain": [
       "       COUNTRY_ALPHA  S002VS  S020\n",
       "303153           ROU       3  1998\n",
       "299874           ROU       5  2005\n",
       "301650           ROU       6  2012\n",
       "304392           ROU       7  2018"
      ]
     },
     "execution_count": 14,
     "metadata": {},
     "output_type": "execute_result"
    }
   ],
   "source": [
    "waves_years('ROU')"
   ]
  },
  {
   "cell_type": "code",
   "execution_count": 60,
   "id": "10c22c69-cd0e-4c37-a9b9-55835d9d2693",
   "metadata": {},
   "outputs": [
    {
     "data": {
      "image/png": "[encoded data removed]",
      "text/plain": [
       "<Figure size 640x480 with 1 Axes>"
      ]
     },
     "metadata": {},
     "output_type": "display_data"
    }
   ],
   "source": [
    "wvs_ts_rou = wvs_ts[wvs_ts['COUNTRY_ALPHA'] == 'ROU']\n",
    "year_counts = wvs_ts_rou['S020'].value_counts()\n",
    "\n",
    "plt.barh(year_counts.index, year_counts.values, height=4, color='#20124d', edgecolor='black')\n",
    "\n",
    "plt.gca().set_facecolor('#ede6de')\n",
    "\n",
    "plt.xlabel('Number of Observations')\n",
    "plt.ylabel('Year')\n",
    "plt.title('Number of Observations by Year: Romania')\n",
    "\n",
    "plt.yticks(year_counts.index);"
   ]
  },
  {
   "cell_type": "code",
   "execution_count": 15,
   "id": "b79fae9c-9213-4abb-8a84-d5a45ee7d17e",
   "metadata": {},
   "outputs": [
    {
     "data": {
      "text/html": [
       "<div>\n",
       "<style scoped>\n",
       "    .dataframe tbody tr th:only-of-type {\n",
       "        vertical-align: middle;\n",
       "    }\n",
       "\n",
       "    .dataframe tbody tr th {\n",
       "        vertical-align: top;\n",
       "    }\n",
       "\n",
       "    .dataframe thead th {\n",
       "        text-align: right;\n",
       "    }\n",
       "</style>\n",
       "<table border=\"1\" class=\"dataframe\">\n",
       "  <thead>\n",
       "    <tr style=\"text-align: right;\">\n",
       "      <th></th>\n",
       "      <th>COUNTRY_ALPHA</th>\n",
       "      <th>S002VS</th>\n",
       "      <th>S020</th>\n",
       "    </tr>\n",
       "  </thead>\n",
       "  <tbody>\n",
       "    <tr>\n",
       "      <th>428996</th>\n",
       "      <td>USA</td>\n",
       "      <td>3</td>\n",
       "      <td>1995</td>\n",
       "    </tr>\n",
       "    <tr>\n",
       "      <th>427796</th>\n",
       "      <td>USA</td>\n",
       "      <td>4</td>\n",
       "      <td>1999</td>\n",
       "    </tr>\n",
       "    <tr>\n",
       "      <th>426547</th>\n",
       "      <td>USA</td>\n",
       "      <td>5</td>\n",
       "      <td>2006</td>\n",
       "    </tr>\n",
       "    <tr>\n",
       "      <th>424315</th>\n",
       "      <td>USA</td>\n",
       "      <td>6</td>\n",
       "      <td>2011</td>\n",
       "    </tr>\n",
       "    <tr>\n",
       "      <th>434702</th>\n",
       "      <td>USA</td>\n",
       "      <td>7</td>\n",
       "      <td>2017</td>\n",
       "    </tr>\n",
       "  </tbody>\n",
       "</table>\n",
       "</div>"
      ],
      "text/plain": [
       "       COUNTRY_ALPHA  S002VS  S020\n",
       "428996           USA       3  1995\n",
       "427796           USA       4  1999\n",
       "426547           USA       5  2006\n",
       "424315           USA       6  2011\n",
       "434702           USA       7  2017"
      ]
     },
     "execution_count": 15,
     "metadata": {},
     "output_type": "execute_result"
    }
   ],
   "source": [
    "waves_years('USA')"
   ]
  },
  {
   "cell_type": "code",
   "execution_count": 58,
   "id": "7d6babb3-9d0f-4ff0-b552-317a77525a05",
   "metadata": {},
   "outputs": [
    {
     "data": {
      "image/png": "[encoded data removed]",
      "text/plain": [
       "<Figure size 640x480 with 1 Axes>"
      ]
     },
     "metadata": {},
     "output_type": "display_data"
    }
   ],
   "source": [
    "wvs_ts_usa = wvs_ts[wvs_ts['COUNTRY_ALPHA'] == 'USA']\n",
    "year_counts_usa = wvs_ts_usa['S020'].value_counts()\n",
    "\n",
    "plt.barh(year_counts_usa.index, year_counts_usa.values, height=3, color='#20124d', edgecolor='black')\n",
    "\n",
    "plt.gca().set_facecolor('#ede6de')\n",
    "\n",
    "plt.xlabel('Number of Observations')\n",
    "plt.ylabel('Year')\n",
    "plt.title('Number of Observations by Year: USA')\n",
    "\n",
    "plt.yticks(year_counts_usa.index);"
   ]
  },
  {
   "cell_type": "code",
   "execution_count": 16,
   "id": "0062d2a1-d677-4d65-9f9b-4b585b424c98",
   "metadata": {},
   "outputs": [
    {
     "data": {
      "text/html": [
       "<div>\n",
       "<style scoped>\n",
       "    .dataframe tbody tr th:only-of-type {\n",
       "        vertical-align: middle;\n",
       "    }\n",
       "\n",
       "    .dataframe tbody tr th {\n",
       "        vertical-align: top;\n",
       "    }\n",
       "\n",
       "    .dataframe thead th {\n",
       "        text-align: right;\n",
       "    }\n",
       "</style>\n",
       "<table border=\"1\" class=\"dataframe\">\n",
       "  <thead>\n",
       "    <tr style=\"text-align: right;\">\n",
       "      <th></th>\n",
       "      <th>COUNTRY_ALPHA</th>\n",
       "      <th>S002VS</th>\n",
       "      <th>S020</th>\n",
       "    </tr>\n",
       "  </thead>\n",
       "  <tbody>\n",
       "    <tr>\n",
       "      <th>42663</th>\n",
       "      <td>BRA</td>\n",
       "      <td>3</td>\n",
       "      <td>1997</td>\n",
       "    </tr>\n",
       "    <tr>\n",
       "      <th>37895</th>\n",
       "      <td>BRA</td>\n",
       "      <td>5</td>\n",
       "      <td>2006</td>\n",
       "    </tr>\n",
       "    <tr>\n",
       "      <th>41177</th>\n",
       "      <td>BRA</td>\n",
       "      <td>6</td>\n",
       "      <td>2014</td>\n",
       "    </tr>\n",
       "    <tr>\n",
       "      <th>43806</th>\n",
       "      <td>BRA</td>\n",
       "      <td>7</td>\n",
       "      <td>2018</td>\n",
       "    </tr>\n",
       "  </tbody>\n",
       "</table>\n",
       "</div>"
      ],
      "text/plain": [
       "      COUNTRY_ALPHA  S002VS  S020\n",
       "42663           BRA       3  1997\n",
       "37895           BRA       5  2006\n",
       "41177           BRA       6  2014\n",
       "43806           BRA       7  2018"
      ]
     },
     "execution_count": 16,
     "metadata": {},
     "output_type": "execute_result"
    }
   ],
   "source": [
    "waves_years('BRA')"
   ]
  },
  {
   "cell_type": "markdown",
   "id": "bd1ea7d3-3137-4870-a678-84a9acdbaf34",
   "metadata": {},
   "source": [
    "### Limitations of This Approach\n",
    "##### ...Plus one Benefit\n",
    "\n",
    "I'm a bit disappointed, as i was looking forward to seeing the relationships between countries in a given region. I also see further limitations here. Each annual data point from a given region will now be from a mostly different mix of countries than the previous annual data point. This could obscure trends, and cause other issues. Overall I am not that optimistic about how this change will affect the quality of the data I get from my time-series model. \n",
    "\n",
    "One positive is that by going this route I can include data from countries that were added to the survey after wave 3"
   ]
  },
  {
   "cell_type": "markdown",
   "id": "1c93c861-d5bd-48f0-b7b5-ea11665073e9",
   "metadata": {},
   "source": [
    "### Defining **Regions**\n",
    "\n",
    "I'll define 6 regions for the purposes of this variable:\n",
    "1) Africa\n",
    "2) Asia Pacific\n",
    "3) Middle-East/North Africa\n",
    "4) Eastern Europe\n",
    "5) Western Europe/North America\n",
    "6) Latin America/Caribbean\n",
    "\n",
    "I've chosen these regions to be *relatively* idealogically and geographically coherent"
   ]
  },
  {
   "cell_type": "code",
   "execution_count": 17,
   "id": "cff438d9-7cc3-4e01-b382-37af7ad4c94d",
   "metadata": {},
   "outputs": [],
   "source": [
    "region_dict = {\n",
    "    'Africa': ['AGO', 'BEN', 'BWA', 'BFA', 'BDI', 'CMR', 'CPV', 'CAF', 'TCD',\n",
    "               'COM', 'COG', 'CIV', 'DJI', 'GNQ', 'ERI', 'ETH', 'GAB', 'GMB',\n",
    "               'GHA', 'GIN', 'GNB', 'KEN', 'LSO', 'LBR', 'MDG', 'MWI', 'MLI',\n",
    "               'MRT', 'MUS', 'MYT', 'MOZ', 'NAM', 'NER', 'NGA', 'STP', 'REU',\n",
    "               'RWA', 'ST', 'SEN', 'SYC', 'SLE', 'SOM', 'ZAF', 'SSD', 'SHN',\n",
    "               'SDN', 'SWZ', 'TZA', 'TGO', 'UGA', 'COD', 'ZMB', 'TZA', 'ESH',\n",
    "               'ZWE'],\n",
    "    'Asia Pacific': ['AFG', 'AUS', 'BGD', 'BTN', 'BRN', 'KHM', 'CHN', 'CXR', 'CCK',\n",
    "                     'IOT', 'FJI', 'PYF', 'GUM', 'HKG', 'IND', 'IDN', 'JPN', 'KAZ',\n",
    "                     'PRK', 'KOR', 'KGZ', 'LAO', 'MAC', 'MYS', 'MDV', 'MHL', 'FSM',\n",
    "                     'MNG', 'MMR', 'NPL', 'NZL', 'NFK', 'MNP', 'PAK', 'PLW', 'PNG',\n",
    "                     'PHL', 'PCN', 'WSM', 'SGP', 'SLB', 'LKA', 'TWN', 'THA', 'TLS',\n",
    "                     'TUV', 'VNM', 'UZB', 'TJK'],\n",
    "    'Middle East/North Africa': ['DZA', 'BHR', 'EGY', 'IRN', 'IRQ', 'ISR', 'JOR', 'KWT', 'LBN',\n",
    "                                 'LBY', 'MLT', 'MAR', 'OMN', 'PSE', 'QAT', 'SAU', 'SYR', 'TUN',\n",
    "                                 'ARE', 'YEM', 'TUR', 'ARM', 'AZE'],\n",
    "    'Eastern Europe': ['BLR', 'BGR', 'CZE', 'GEO', 'HUN', 'MDA', 'POL', 'ROU', 'RUS', \n",
    "                       'SVK', 'UKR', 'ALB', 'BIH', 'HRV', 'EST', 'LTU', 'LVA', 'MKD',\n",
    "                       'MNE', 'SRB', 'SVN'],\n",
    "    'Western Europe/North America': ['AUT', 'BEL', 'CAN', 'DNK', 'FIN', 'FRA', 'DEU', 'GRC', 'ISL',\n",
    "                                     'ITA', 'LUX', 'NLD', 'NOR', 'PRT', 'ESP', 'SWE', 'CHE', 'GBR',\n",
    "                                     'USA', 'IRL', 'CYP', 'MCO', 'AND', 'NIR'],\n",
    "    'Latin America/Caribbean': ['ATG', 'ARG', 'BHS', 'BRB', 'BLZ', 'BOL', 'BRA', 'CHL', 'COL',\n",
    "                                'CRI', 'CUB', 'DMA', 'DOM', 'ECU', 'SLV', 'GRD', 'GTM', 'HTI',\n",
    "                                'HND', 'JAM', 'MEX', 'NIC', 'PAN', 'PRY', 'PER', 'KNA', 'LCA',\n",
    "                                'VCT', 'SUR', 'TTO', 'URY', 'VEN', 'GUY', 'GUF', 'TCO', 'CYM',\n",
    "                                'PRI']\n",
    "}"
   ]
  },
  {
   "cell_type": "code",
   "execution_count": 18,
   "id": "fe200860-4970-44b9-a1f7-af219586596b",
   "metadata": {},
   "outputs": [],
   "source": [
    "def get_region(country_code):\n",
    "    for region, countries in region_dict.items():\n",
    "        if country_code in countries:\n",
    "            return region\n",
    "    \n",
    "    return np.nan\n",
    "\n",
    "wvs_ts['region'] = [get_region(country_code) for country_code in wvs_ts['COUNTRY_ALPHA']]"
   ]
  },
  {
   "cell_type": "code",
   "execution_count": 19,
   "id": "c4f1195c-54a5-4c97-992c-a60c3004f483",
   "metadata": {},
   "outputs": [
    {
     "data": {
      "text/plain": [
       "Asia Pacific                    105483\n",
       "Middle East/North Africa         68262\n",
       "Latin America/Caribbean          67902\n",
       "Eastern Europe                   65191\n",
       "Western Europe/North America     59975\n",
       "Africa                           40042\n",
       "Name: region, dtype: int64"
      ]
     },
     "execution_count": 19,
     "metadata": {},
     "output_type": "execute_result"
    }
   ],
   "source": [
    "wvs_ts['region'].value_counts(dropna=False)"
   ]
  },
  {
   "cell_type": "markdown",
   "id": "95fb01b1-8901-4c62-af03-7b18fb0df499",
   "metadata": {
    "tags": []
   },
   "source": [
    "## Engineering an **Authoritarianism Index** to Serve as My Target Variable\n",
    "I'll engineer a variable that I'll term the **Authoritarianism Index** to serve as the **y** variable for my models. I'll use this as the **y** for both my time series model and my classification model.\n",
    "\n",
    "This variable will be a composite score based on each respondent's answers to several questions "
   ]
  },
  {
   "cell_type": "markdown",
   "id": "a7434d9e-f7e5-4d8d-b08b-0798a9623c9f",
   "metadata": {
    "tags": []
   },
   "source": [
    "### Questions to include\n",
    "\n",
    "In order for a question to be considered for inclusion in my **Authoritarianism Index**, it needs to meet the following criteria:\n",
    "- The question must be directly related to values associated with Authoritarianism\n",
    "- The question must appear in all waves of the survey included in the model (waves 3-7)\n",
    "- The response scale for the question must be ordinal in nature\n",
    "\n",
    "Based on these criteria, I selected the following four questions to be included in the **Authoritarianism Index** variable:\n",
    "| Question ID | Question Description | Response Scale | Directionality |\n",
    "|---|---|---|---|\n",
    "| A042 | \"Here is a list of qualities that children can be encouraged to learn at home. Which, if any, do you consider to be especially important? Please choose up to five\" (**Obedience**) | 0 (not mentioned) to 1 (important) | Positive |\n",
    "| E018 | \"I'm going to read out a list of various changes in our way of life that might take place in the near future. Please tell me for each one, if it were to happen, whether you think it would be a good thing, a bad thing, or don't you mind?\" (**Greater respect for authority**) | 1 (good thing) to 3 (bad thing) | Negative |\n",
    "| E114 | \"I'm going to describe various types of political systems and ask what you think about each as a way of governing this country. For each one, would you say it is a very good, fairly good, fairly bad or very bad way of governing this country?\" (**Having a strong leader**) | 1 (very good) to 4 (very bad) | Negative |\n",
    "| E116 | \"I'm going to describe various types of political systems and ask what you think about each as a way of governing this country. For each one, would you say it is a very good, fairly good, fairly bad or very bad way of governing this country?\" (**Having the army rule**) | 1 (very good) to 4 (very bad) | Negative |\n",
    "\n",
    "\n",
    "*Scales determined with reference to https://www.worldvaluessurvey.org/WVSOnline.jsp*\n",
    "\n",
    "***Note:*** *The directionality of the scales is at times inconsistent. Eg. for question **A042** the value associated with the positive answer is higher, while for the other three questions it is lower. I've noted the directionality of the scales in the above table. I'll need to account for that when engineering my composite variable*"
   ]
  },
  {
   "cell_type": "code",
   "execution_count": 20,
   "id": "b0bb5246-1aa8-4db5-b5d1-42e1863b78bd",
   "metadata": {},
   "outputs": [
    {
     "data": {
      "text/plain": [
       " 0    248061\n",
       " 1    157582\n",
       "-2       567\n",
       "-1       551\n",
       "-5        94\n",
       "Name: A042, dtype: int64"
      ]
     },
     "execution_count": 20,
     "metadata": {},
     "output_type": "execute_result"
    }
   ],
   "source": [
    "wvs_ts['A042'].value_counts()"
   ]
  },
  {
   "cell_type": "code",
   "execution_count": 21,
   "id": "0d4aa028-6475-46ce-ad99-b25013157a10",
   "metadata": {},
   "outputs": [
    {
     "data": {
      "text/plain": [
       " 1    234174\n",
       " 2    101327\n",
       " 3     48630\n",
       "-1     12025\n",
       "-4      7328\n",
       "-2      3371\n",
       "Name: E018, dtype: int64"
      ]
     },
     "execution_count": 21,
     "metadata": {},
     "output_type": "execute_result"
    }
   ],
   "source": [
    "wvs_ts['E018'].value_counts()"
   ]
  },
  {
   "cell_type": "code",
   "execution_count": 22,
   "id": "44a760b6-109e-4fd0-b1d7-8436e32c7a5e",
   "metadata": {},
   "outputs": [
    {
     "data": {
      "text/plain": [
       " 4    104496\n",
       " 3    103630\n",
       " 2     99119\n",
       " 1     56895\n",
       "-1     25997\n",
       "-2      8344\n",
       "-4      7921\n",
       "-5       453\n",
       "Name: E114, dtype: int64"
      ]
     },
     "execution_count": 22,
     "metadata": {},
     "output_type": "execute_result"
    }
   ],
   "source": [
    "wvs_ts['E114'].value_counts()"
   ]
  },
  {
   "cell_type": "code",
   "execution_count": 23,
   "id": "22722d81-8e24-4609-84ba-ce6f19bd4c98",
   "metadata": {},
   "outputs": [
    {
     "data": {
      "text/plain": [
       " 4    160890\n",
       " 3    108227\n",
       " 2     61134\n",
       " 1     27396\n",
       "-1     22359\n",
       "-4     15844\n",
       "-2      7644\n",
       "-5      3361\n",
       "Name: E116, dtype: int64"
      ]
     },
     "execution_count": 23,
     "metadata": {},
     "output_type": "execute_result"
    }
   ],
   "source": [
    "wvs_ts['E116'].value_counts()"
   ]
  },
  {
   "cell_type": "markdown",
   "id": "c2fc8841-cab9-463a-b198-f1ca0820faf2",
   "metadata": {},
   "source": [
    "### Handling Missing Values\n",
    "\n",
    "Notice that each variable above has a number of negative values associated with it. Each of these negative numbers corresponds to a different type of **missing data**, which are as follows:\n",
    "- **-1**: Respondent answered \"Don't know\" to question\n",
    "- **-2**: Respondent refused or otherwise provided \"No answer\" to question\n",
    "- **-3**: Question \"Not applicable\". Subject screened out of question by virtue of a response to a filter question\n",
    "- **-4**: Question was \"Not asked in survey\"\n",
    "    - ***Note**: My expectation was that this related to differences in questions asked from one wave of the survey to another. As I specifically chose questions based on whether or not they appeared in all waves, I did not expect to see many of these. The fact that there are still a number of missing values of this type belies that assumption.*\n",
    "- **-5**: \"Missing: other\"\n",
    "\n",
    "I want to draw special attention to type **-1** here. In contrast to the other missing value types, these are not true *missings*, as the respondents in these cases were asked the question and provided an answer of a kind. It is reasonable to read a response of \"I don't know\" as a neutral response to many of these questions, particularly since respondents are often not offered a **neutral option** as one of the response choices. I'll handle these by creating that **neutral option** at the midpoint, (eg. a four point scale becomes a five point scale with the third option as **neutral**) and assigning items currently coded as **-1** to it. I'll do this as part of a number of adjustments I intend to make to the scales of these variables, in preparation for combining them into my **Authoritarianism Index** variable.\n",
    "\n",
    "I considered doing the same for missing value type **-2**, but ultimately decided it could not be justified. Neutrality is one possible explanation for why a respondent might not answer a question. Another might be that the respondent feels ashamed of their opinion, or fears the judgement of the interviewer. There could be many other explanations. With no answer given, there is not enough information to determine the respondent's intent. Values of **-2** will therefore be recoded as NAs along with missing value types **-3**, **-4**, and **-5**.\n",
    "\n",
    "For the purpose of constructing the **Authoritarianism Index** variable, observations will only be dropped if they have NAs for all four of the component questions. Otherwise, their **Authoritarianism Index** will be calculated using the available responses, and scaled to match the rest of the data.\n",
    "\n",
    "*Meaning of missing values detailed in **WVS-7 Master Questionnaire 2017-2020 English.pdf**, which can be downloaded from https://www.worldvaluessurvey.org/WVSDocumentationWV7.jsp*"
   ]
  },
  {
   "cell_type": "code",
   "execution_count": 24,
   "id": "e5ed55a5-80a9-45c2-bc7f-7dc6442fa1aa",
   "metadata": {},
   "outputs": [],
   "source": [
    "def missing_to_na(var):\n",
    "    missings = [-2, -3, -4, -5]\n",
    "    return var.replace(missings, np.nan)"
   ]
  },
  {
   "cell_type": "code",
   "execution_count": 25,
   "id": "1d3df764-6ad9-46bc-968d-f3fc1fc6b2a2",
   "metadata": {},
   "outputs": [],
   "source": [
    "aut_index_comp_qs = ['A042', 'E018', 'E114', 'E116']\n",
    "\n",
    "for q in aut_index_comp_qs:\n",
    "    wvs_ts[q] = missing_to_na(wvs_ts[q])"
   ]
  },
  {
   "cell_type": "code",
   "execution_count": 26,
   "id": "2041f4f5-6099-4b61-b645-e0df39f9b2cc",
   "metadata": {},
   "outputs": [
    {
     "data": {
      "text/plain": [
       " 1.0    234174\n",
       " 2.0    101327\n",
       " 3.0     48630\n",
       "-1.0     12025\n",
       " NaN     10699\n",
       "Name: E018, dtype: int64"
      ]
     },
     "execution_count": 26,
     "metadata": {},
     "output_type": "execute_result"
    }
   ],
   "source": [
    "wvs_ts['E018'].value_counts(dropna=False)"
   ]
  },
  {
   "cell_type": "markdown",
   "id": "8edc5654-6fe1-4c4a-bf95-1d75f4cec0ed",
   "metadata": {},
   "source": [
    "### Standardizing Ordinal Scales For the Component Variables\n",
    "\n",
    "I'll need to create a function next to standardize the ordinal scales for each of the component variables that will make up the **Authoritarianism Index**. The adjusted scales should satisfy the following requirements:\n",
    "1) The scales should have the same endpoints, so that summing them gives each component variable equal weight in the derived variable\n",
    "2) The scales should all be directionally the same, meaning that positive and negative responses are on the same end of the scale for each variable\n",
    "3) The scales should have an odd number of potential values, allowing there to be a midpoint that corresponds to a neutral value (*See **Handling Missing Values** above*)\n",
    "\n",
    "In order to satisfy these requirements, I'll create a function that adjusts the scale for each of the above questions to be a five point scale from -2 to 2, where -2 indicates a strongly negative response to the question, and 2 being a strongly positive response. \"Don't know\" responses, currently coded as -1, will be recoded as 0\n",
    "\n",
    "I'll reuse this function later to rescale other questions, some of which are on an eight or ten point scale, so I'll include that as well"
   ]
  },
  {
   "cell_type": "code",
   "execution_count": 27,
   "id": "082e36b5-f49f-49a3-b9e8-aed7f3a02182",
   "metadata": {},
   "outputs": [],
   "source": [
    "def scale_adjuster(var, direction='positive'):\n",
    "    orig_scale = var.max()\n",
    "    if direction == 'positive':\n",
    "        if orig_scale == 1:\n",
    "            return var.map({-1: 0, 0: -2, 1: 2})\n",
    "        elif orig_scale == 2:\n",
    "            return var.map({-1: 0, 1: -2}) # 2 (strong positive) in this case would stay the same\n",
    "        elif orig_scale == 3:\n",
    "            return var.map({-1: 0, 1: -2, 2: 0, 3: 2})\n",
    "        elif orig_scale == 4:\n",
    "            return var.map({-1: 0, 1: -2, 2: -1, 3: 1, 4: 2})\n",
    "        elif orig_scale == 8:\n",
    "            return var.map({-1: 0, 1: -4, 2: -3, 3: -2, 4: -1, 5: 1, 6: 2, 7: 3, 8: 4})\n",
    "        else:\n",
    "            return var.map({-1: 0, 1: -5, 2: -4, 3: -3, 4: -2, 5: -1, 6: 1, 7: 2, 8: 3, 9: 4, 10: 5})\n",
    "    else:\n",
    "        if orig_scale == 1:\n",
    "            return var.map({-1: 0, 0: 2, 1: -2})\n",
    "        elif orig_scale == 2:\n",
    "            return var.map({-1: 0, 1: 2, 2: -2})\n",
    "        elif orig_scale == 3:\n",
    "            return var.map({-1: 0, 1: 2, 2: 0, 3: -2})\n",
    "        elif orig_scale == 4:\n",
    "            return var.map({-1: 0, 1: 2, 2: 1, 3: -1, 4: -2})\n",
    "        elif orig_scale == 8:\n",
    "            return var.map({-1: 0, 1: 4, 2: 3, 3: 2, 4: 1, 5: -1, 6: -2, 7: -3, 8: -4})\n",
    "        else:\n",
    "            return var.map({-1: 0, 1: 5, 2: 4, 3: 3, 4: 2, 5: 1, 6: -1, 7: -2, 8: -3, 9: -4, 10: -5})"
   ]
  },
  {
   "cell_type": "code",
   "execution_count": 28,
   "id": "adb8e70b-32dd-4d9e-8e07-3b149f61351c",
   "metadata": {},
   "outputs": [],
   "source": [
    "negative_scaled_qs = ['E018', 'E114', 'E116']\n",
    "\n",
    "for q in negative_scaled_qs:\n",
    "    wvs_ts[q] = scale_adjuster(wvs_ts[q], direction='negative')\n",
    "    \n",
    "wvs_ts['A042'] = scale_adjuster(wvs_ts['A042'])"
   ]
  },
  {
   "cell_type": "code",
   "execution_count": 29,
   "id": "bd3e9d15-77c9-4e2b-b0af-0842132c4eb7",
   "metadata": {},
   "outputs": [
    {
     "data": {
      "text/plain": [
       "-2.0    104496\n",
       "-1.0    103630\n",
       " 1.0     99119\n",
       " 2.0     56895\n",
       " 0.0     25997\n",
       "Name: E114, dtype: int64"
      ]
     },
     "execution_count": 29,
     "metadata": {},
     "output_type": "execute_result"
    }
   ],
   "source": [
    "wvs_ts['E114'].value_counts()"
   ]
  },
  {
   "cell_type": "markdown",
   "id": "2b2fc108-d147-4c11-b8bb-b2f5065595b4",
   "metadata": {
    "tags": []
   },
   "source": [
    "### Creating the **Authoritarianism Index** Variable\n",
    "\n",
    "Finally, I'll create the **Authoritarianism Index** variable itself. I'll do this by summing the responses to the individual questions, then dividing by the number of responses used in the calculation. In this way, values generated from respondents for whom there were missing responses to one or more of the component questions will be on the same scale as values generated from all four component questions"
   ]
  },
  {
   "cell_type": "code",
   "execution_count": 30,
   "id": "a58a363a-8d27-4247-af63-2fcc3d414b46",
   "metadata": {},
   "outputs": [],
   "source": [
    "def make_composite(components):\n",
    "    components_notna = []\n",
    "    \n",
    "    for component in components:\n",
    "        if not np.isnan(component):\n",
    "            components_notna.append(component)\n",
    "    \n",
    "    if len(components_notna) > 0:\n",
    "        composite = sum(components_notna) / len(components_notna)\n",
    "    else:\n",
    "        composite = np.nan\n",
    "    \n",
    "    return composite"
   ]
  },
  {
   "cell_type": "code",
   "execution_count": 31,
   "id": "9b5cb8b7-ea29-4cc1-95e6-b714b3b83019",
   "metadata": {},
   "outputs": [],
   "source": [
    "wvs_ts['authoritarianism_index'] = [make_composite(row) for row in wvs_ts[aut_index_comp_qs].values]"
   ]
  },
  {
   "cell_type": "markdown",
   "id": "7a4b27f1-eea2-485e-a1ac-39ee1c5443dc",
   "metadata": {},
   "source": [
    "We can see that values for the **Authoritarianism Index** are on the same -2 to 2 scale as the individual components:"
   ]
  },
  {
   "cell_type": "code",
   "execution_count": 32,
   "id": "e68257f7-3c4f-4364-bd6b-95a656f27f3b",
   "metadata": {},
   "outputs": [
    {
     "data": {
      "text/plain": [
       "<bound method Series.sort_index of authoritarianism_index\n",
       "-2.000000                 13467\n",
       "-1.750000                  5938\n",
       "-1.666667                   850\n",
       "-1.500000                 18186\n",
       "-1.333333                  1665\n",
       "-1.250000                 14403\n",
       "-1.000000                 43830\n",
       "-0.750000                 27259\n",
       "-0.666667                  3979\n",
       "-0.500000                 38899\n",
       "-0.333333                  3027\n",
       "-0.250000                 23400\n",
       " 0.000000                 61136\n",
       " 0.250000                 27010\n",
       " 0.333333                  2368\n",
       " 0.500000                 32794\n",
       " 0.666667                  4352\n",
       " 0.750000                 19496\n",
       " 1.000000                 32479\n",
       " 1.250000                  8002\n",
       " 1.333333                  1054\n",
       " 1.500000                  8365\n",
       " 1.666667                  1176\n",
       " 1.750000                  5059\n",
       " 2.000000                  8633\n",
       "dtype: int64>"
      ]
     },
     "execution_count": 32,
     "metadata": {},
     "output_type": "execute_result"
    }
   ],
   "source": [
    "wvs_ts[['authoritarianism_index']].value_counts(sort=False).sort_index"
   ]
  },
  {
   "cell_type": "markdown",
   "id": "c8ccdcff-3801-4ea0-b36c-88849f9b8666",
   "metadata": {},
   "source": [
    "And by engineering the variable in the way that I did, I've cut way down on null values without having to eliminate observations:"
   ]
  },
  {
   "cell_type": "code",
   "execution_count": 33,
   "id": "4d8d2f83-3c80-48ea-a58b-8d5c9093ef53",
   "metadata": {},
   "outputs": [
    {
     "data": {
      "text/plain": [
       "28"
      ]
     },
     "execution_count": 33,
     "metadata": {},
     "output_type": "execute_result"
    }
   ],
   "source": [
    "wvs_ts['authoritarianism_index'].isna().sum()"
   ]
  },
  {
   "cell_type": "markdown",
   "id": "868ad284-56a3-46d6-a6c0-133fb26a4e2b",
   "metadata": {},
   "source": [
    "I will have to drop these few observations from my dataset prior to modelling, but I'm quite satisfied with how little data will be lost at this stage"
   ]
  },
  {
   "cell_type": "code",
   "execution_count": 34,
   "id": "71d8eebc-b606-41fc-8187-9cb297780797",
   "metadata": {},
   "outputs": [],
   "source": [
    "wvs_ts = wvs_ts[wvs_ts['authoritarianism_index'].notna()].copy()"
   ]
  },
  {
   "cell_type": "code",
   "execution_count": 64,
   "id": "02376454-1275-4595-8974-1fdd4cc41f1e",
   "metadata": {},
   "outputs": [
    {
     "data": {
      "text/plain": [
       "''"
      ]
     },
     "execution_count": 64,
     "metadata": {},
     "output_type": "execute_result"
    },
    {
     "data": {
      "image/png": "[encoded data removed]",
      "text/plain": [
       "<Figure size 1500x800 with 1 Axes>"
      ]
     },
     "metadata": {},
     "output_type": "display_data"
    }
   ],
   "source": [
    "plt.figure(figsize=(15, 8))\n",
    "\n",
    "plt.hist(wvs_ts['authoritarianism_index'], color='#933e3e', edgecolor='black')\n",
    "\n",
    "plt.gca().set_facecolor('#ede6de')\n",
    "\n",
    "plt.xlabel('Score (Positive Values = More Authoritarian)')\n",
    "plt.ylabel('Number of Observations')\n",
    "plt.title('Authoritarianism Index Distribution')\n",
    "\n",
    ";"
   ]
  },
  {
   "cell_type": "markdown",
   "id": "4b76e566-9e51-475c-9402-1543fcd4e640",
   "metadata": {},
   "source": [
    "## Other Potentially Correlated Questions\n",
    "\n",
    "The questions on the list below do not address **Authoritarianism** directly, but rather concern other values that may be correlated with authoritarian thinking. These will be the X variables for my regression model, and some may be included as secondary variables in my time series model as well. I'll be very interested in which ones correlate most highly with my **Authoritarianism Index**"
   ]
  },
  {
   "cell_type": "markdown",
   "id": "ca45f25d-25d1-4aff-8b6e-89c83e2fec92",
   "metadata": {},
   "source": [
    "| Question ID | Question Description | Response Scale | Directionality |\n",
    "|---|---|---|---|\n",
    "| A004, A005, A006 | \"For each of the following aspects, indicate how important it is in your life\" (**Politics, Work, Religion**) | 1 (very important) to 4 (Not at all important) | Negative |\n",
    "| A008 | \"Taking all things together, would you say you are:\" (**Happiness**) | 1 (very happy) to 4 (not at all happy) | Negative |\n",
    "| A029, A030, A032, A034, A035, A039, A040, A041 | \"Here is a list of qualities that children can be encouraged to learn at home. Which, if any, do you consider to be especially important? Please choose up to five\" (**Independence, Hard work, Feeling of responsibility, imagination, tolerance and respect for other people, determination/perseverance, religious faith, unselfishness**) | 0 (not mentioned) to 1 (important) | Positive |\n",
    "| A124_02, 03, 06, 07, 08, 09 | \"On this list are various groups of people. Could you please mention any that you would not like to have as neighbors?\" (**People of a different race, Heavy drinkers, Immigrants/foreign workers, People who have AIDS, Drug addicts, Homosexuals**) | 0 (not mentioned) to 1 (mentioned) | Positive |\n",
    "| A165 | \"Generally speaking, would you say that most people can be trusted or that you need to be very careful in dealing with people?\" | 1 (Most people can be trusted) to 2 (Need to be very careful) | Negative |\n",
    "| A170 | \"All things considered, how satisfied are you with your life as a whole these days?\" | 1 (Dissatisfied) to 10 (Satisfied) | Positive |\n",
    "| D054 | \"One of my main goals in life has been to make my parents proud\" | 1 (Strongly agree) to 4 (Strongly disagree) | Negative |\n",
    "| D059 | \"Men make better political leaders than women do\" | 1 (Strongly agree) to 4 (Strongly disagree) | Negative |\n",
    "| D060 | \"University is more important for a boy than for a girl\" | 1 (Strongly agree) to 4 (Strongly disagree) | Negative |\n",
    "| E003 | \"If you had to choose, which one of the things on this card would you say is most important?\" | **Categorical**: 1 = 'Maintaining order in the nation', 2 = 'Giving people more say in important government decisions', 3 = 'Fighting rising prices', 4 = 'Protecting freedom of speech' | Not Applicable |\n",
    "| E015, E016 | \"I'm going to read out a list of various changes in our way of life that might take place in the near future. Please tell me for each one, if it were to happen, whether you think it would be a good thing, a bad thing, or don't you mind?\" (**Less importance placed on work, More emphasis on technology**) | 1 (good thing) to 3 (bad thing) | Negative |\n",
    "| E023 | \"How interested would you say you are in politics?\" | 1 (Very interested) to 4 (Not at all interested) | Negative |\n",
    "| E069_01, 02, 04, 05, 06, 10, 11, 12, 13, 14, 15 | \"I am going to name a number of organizations. For each one, could you tell me how much confidence you have in them\" (**Churches, Armed Forces, Labour Unions, Police, Television, The Government, Political Parties, Major Companies, Environmental Protection Movement, Women's Movement**) | 1 (A great deal) to 4 (None at all) | Negative |\n",
    "| F028 | \"Apart from weddings, funerals and christenings, about how often do you attend religious services these days?\" | 1 (More than once a week) to 8 (Never, practically never) | Negative |\n",
    "| F063 | \"How important is God in your life?\" | 1 (Not at all important) to 10 (Very important) | Positive |\n",
    "| F116, F117, F118, F120, F121, F123 | \"Please tell me for each of the following actions whether you think it can always be justified, never be justified, or something in between\" (**Cheating on taxes, Someone accepting a bribe, Homosexuality, Abortion, Divorce, Suicide**) | 1 (Never justifiable) to 10 (Always justifiable) | Positive |\n",
    "\n",
    "***Note**: Response scales are **ordinal** unless otherwise specified*\n",
    "\n",
    "*Scales determined with reference to https://www.worldvaluessurvey.org/WVSOnline.jsp*"
   ]
  },
  {
   "cell_type": "markdown",
   "id": "bdd11bdc-8b3f-4b82-b011-b736fd6552ba",
   "metadata": {},
   "source": [
    "## Demographic Variables\n",
    "\n",
    "I'll also incorporate some demographic variables into the regression model. Observations in the time series model will be aggregates by year and region of the world, so it won't make sense to use individual demographic data in that model"
   ]
  },
  {
   "cell_type": "markdown",
   "id": "4ec4a600-b32f-4880-8ffa-9e966e4082d5",
   "metadata": {},
   "source": [
    "| Variable ID | Variable Description | Response Scale | Directionality | Model |\n",
    "|---|---|---|---|---|\n",
    "| X001 | sex | **Categorical**: 1 = male, 2 = female | NA | Regression |\n",
    "| X003 | Age (at time of interview) | **Numeric** | NA | Regression |\n",
    "| X007 | Marital status | **Categorical**: 1 = 'Married', 2 = 'Living together', 3 = 'Divorced', 4 = 'Separated', 5 = 'Widowed', 6 = 'Single' | NA | Regression |\n",
    "| X011 | Number of children | **Numeric** | NA | Regression |\n",
    "| X025R | Education level (Recoded into three groups) | 1 (Lower) to 3 (Higher) | Positive | Regression |\n",
    "| X028 | Employment status | **Categorical**: 1 = 'Full time (> 30hr/wk)', 2 = 'Part time (< 30hr/wk)', 3 = 'Self employed', 4 = 'Retired/pensioned', 5 = 'Housewife not otherwise employed', 6 = 'Student', 7 = 'Unemployed', 8 = 'Other' | NA | Regression |\n",
    "| X045 | Social class (subjective/self described) | 1 (Upper class) to 5 (Lower class) | Negative | Regression |\n",
    "| X047R_WVS | Income level (subjective, recoded into three groups) | 1 (low) to 3 (high) | Positive | Regression |\n",
    "| COUNTRY_ALPHA | Country of Respondent | Categorical: Three-Letter Country Code | NA | Time-Series |\n",
    "| S002VS | Survey Wave | Numeric | NA | Time-Series |\n",
    "| S020 | Year of Interview | Numeric/Datetime | NA | Time-Series |\n",
    "\n",
    "***Note**: Response scales are **ordinal** unless otherwise specified*\n",
    "\n",
    "*Scales determined with reference to https://www.worldvaluessurvey.org/WVSOnline.jsp*"
   ]
  },
  {
   "cell_type": "markdown",
   "id": "e52bbfc5-cf95-426a-8f6e-0d2b62610304",
   "metadata": {
    "tags": []
   },
   "source": [
    "### Transforming X Variables\n",
    "I'll do the same two transformations on these variables as I did for the component variables of the **Authoritarianism Index**:\n",
    "1) Handling Missing Values\n",
    "2) Standardizing Ordinal Scales"
   ]
  },
  {
   "cell_type": "code",
   "execution_count": 35,
   "id": "d1226863-1a54-487d-a7e8-a428356ca665",
   "metadata": {},
   "outputs": [],
   "source": [
    "positive_scaled_qs = ['A029', 'A030', 'A032', 'A034', 'A035', 'A039', 'A040', 'A041',\n",
    "                      'A124_02', 'A124_03', 'A124_06', 'A124_07', 'A124_08', 'A124_09',\n",
    "                      'A170', 'F063', 'F116', 'F117', 'F118', 'F120', 'F121', 'F123',\n",
    "                      'X025R', 'X047R_WVS']\n",
    "\n",
    "negative_scaled_qs = ['A004', 'A005', 'A006', 'A008', 'A165', 'D054', 'D059', 'D060',\n",
    "                      'E015', 'E016', 'E023', 'E069_01', 'E069_02', 'E069_04', 'E069_05',\n",
    "                      'E069_06', 'E069_10', 'E069_11', 'E069_12', 'E069_13', 'E069_14',\n",
    "                      'E069_15', 'F028', 'X045']\n",
    "\n",
    "all_ordinal_qs = positive_scaled_qs + negative_scaled_qs\n",
    "\n",
    "non_ordinal_qs = ['E003', 'X001', 'X007', 'X028', 'COUNTRY_ALPHA', 'S002VS', 'S020']\n",
    "\n",
    "all_qs = all_ordinal_qs + non_ordinal_qs"
   ]
  },
  {
   "cell_type": "code",
   "execution_count": 36,
   "id": "3b430605-9e19-440e-ab1f-d68b56f784b9",
   "metadata": {},
   "outputs": [],
   "source": [
    "for q in all_ordinal_qs:\n",
    "    wvs_ts[q] = missing_to_na(wvs_ts[q])"
   ]
  },
  {
   "cell_type": "code",
   "execution_count": 37,
   "id": "46c2e27f-1513-4c85-9d16-2555d08704b1",
   "metadata": {},
   "outputs": [],
   "source": [
    "for q in negative_scaled_qs:\n",
    "    wvs_ts[q] = scale_adjuster(wvs_ts[q], direction='negative')\n",
    "    \n",
    "for q in positive_scaled_qs:\n",
    "    wvs_ts[q] = scale_adjuster(wvs_ts[q])"
   ]
  },
  {
   "cell_type": "code",
   "execution_count": 38,
   "id": "486b87e1-6341-471d-981f-ba4a87fd3a9a",
   "metadata": {},
   "outputs": [
    {
     "data": {
      "text/plain": [
       " 0.0    224989\n",
       "-2.0    121502\n",
       " 2.0     44102\n",
       " NaN     16234\n",
       "Name: X047R_WVS, dtype: int64"
      ]
     },
     "execution_count": 38,
     "metadata": {},
     "output_type": "execute_result"
    }
   ],
   "source": [
    "wvs_ts['X047R_WVS'].value_counts(dropna=False)"
   ]
  },
  {
   "cell_type": "markdown",
   "id": "84f423da-2430-497f-a127-b532b8a97e57",
   "metadata": {},
   "source": [
    "## Modelling Dataset\n",
    "\n",
    "I'll now create my base modelling dataset by combining my two engineered variables ('**region**' and '**authoritarianism_index**') with the other variables I've selected"
   ]
  },
  {
   "cell_type": "code",
   "execution_count": 39,
   "id": "8fb451b2-c5b7-4a7a-aaee-66dfa64a2aaf",
   "metadata": {},
   "outputs": [],
   "source": [
    "engineered_vars = ['region', 'authoritarianism_index']\n",
    "all_vars = engineered_vars + all_qs\n",
    "\n",
    "wvs_model = wvs_ts[all_vars]"
   ]
  },
  {
   "cell_type": "code",
   "execution_count": 40,
   "id": "08d158ba-ccf1-47e6-adce-38873499fb5b",
   "metadata": {},
   "outputs": [
    {
     "data": {
      "text/plain": [
       "(406827, 57)"
      ]
     },
     "execution_count": 40,
     "metadata": {},
     "output_type": "execute_result"
    }
   ],
   "source": [
    "wvs_model.shape"
   ]
  },
  {
   "cell_type": "code",
   "execution_count": 41,
   "id": "3438a293-9d1e-42cb-b1aa-73dd457924fa",
   "metadata": {},
   "outputs": [],
   "source": [
    "wvs_model.to_csv('./data/wvs_model.csv', index=False)"
   ]
  },
  {
   "cell_type": "markdown",
   "id": "ffb8388e-26a9-4766-9529-781ca2faec61",
   "metadata": {},
   "source": [
    "This is the point where the shape of the data for my classification and time-series models will begin to diverge. I'll continue the process of shaping and preparing the data for modelling in the next two notebooks on EDA and data visualization"
   ]
  }
 ],
 "metadata": {
  "kernelspec": {
   "display_name": "Python 3 (ipykernel)",
   "language": "python",
   "name": "python3"
  },
  "language_info": {
   "codemirror_mode": {
    "name": "ipython",
    "version": 3
   },
   "file_extension": ".py",
   "mimetype": "text/x-python",
   "name": "python",
   "nbconvert_exporter": "python",
   "pygments_lexer": "ipython3",
   "version": "3.9.13"
  }
 },
 "nbformat": 4,
 "nbformat_minor": 5
}
